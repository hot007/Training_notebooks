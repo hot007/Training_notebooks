{
 "cells": [
  {
   "cell_type": "markdown",
   "metadata": {},
   "source": [
    "# Search and Access CMIP6 data from NCI"
   ]
  },
  {
   "cell_type": "markdown",
   "metadata": {},
   "source": [
    "In this notebook, we demonstrate how to use CleF and Xarray to search and access CMIP5 data from NCI. You need to run this notebook in VDI so as to access data through file system. \n",
    "\n",
    "The following material uses Coupled Model Intercomparison Project (CMIP5) collections. The CMIP5 terms of use are found[here](https://pcmdi.llnl.gov/CMIP6/TermsOfUse/TermsOfUse6-1.html). For more information on the collection, please click [here]( https://geonetwork.nci.org.au/geonetwork/srv/eng/catalog.search#/metadata/f6600_2266_8675_3563)."
   ]
  },
  {
   "cell_type": "markdown",
   "metadata": {},
   "source": [
    "## Set up environment"
   ]
  },
  {
   "cell_type": "code",
   "execution_count": null,
   "metadata": {},
   "outputs": [],
   "source": [
    "!module use /g/data3/hh5/public/modules\n",
    "!module load conda/analysis3"
   ]
  },
  {
   "cell_type": "markdown",
   "metadata": {},
   "source": [
    "We use Clef to search CMIP5 data path. Clef is now loaded for our use. \n",
    "\n",
    "Clef searches the Earth System Grid Federation datasets stored at the Australian National Computational Infrastructure, both data published on the NCI ESGF node as well as files that are locally replicated from other ESGF nodes.\n",
    "\n",
    "Currently it searches for the following datasets:\n",
    "\n",
    "- CMIP5 raijin projects: rr3, where NCI is the primary publisher and al33 for replicas\n",
    "- CMIP6 raijin projects: 0i10 for replicas\n",
    "\n",
    "For detailed information about using 'Clef', check out this [webpage](https://clef.readthedocs.io/en/latest/gettingstarted.html)."
   ]
  },
  {
   "cell_type": "markdown",
   "metadata": {},
   "source": [
    "## Import python package "
   ]
  },
  {
   "cell_type": "code",
   "execution_count": 46,
   "metadata": {},
   "outputs": [],
   "source": [
    "import xarray as xr\n",
    "%matplotlib inline"
   ]
  },
  {
   "cell_type": "markdown",
   "metadata": {},
   "source": [
    "## Use Clef -cmip6 to serach data"
   ]
  },
  {
   "cell_type": "markdown",
   "metadata": {},
   "source": [
    "First, check out help information to see search options in clef cmip5."
   ]
  },
  {
   "cell_type": "code",
   "execution_count": 49,
   "metadata": {},
   "outputs": [
    {
     "name": "stdout",
     "output_type": "stream",
     "text": [
      "Usage: clef cmip6 [OPTIONS] [QUERY]...\r\n",
      "\r\n",
      "  Search ESGF and local database for CMIP6 files\r\n",
      "\r\n",
      "  Constraints can be specified multiple times, in which case they are\r\n",
      "  combined    using OR: -v tas -v tasmin will return anything matching\r\n",
      "  variable = 'tas' or variable = 'tasmin'. The --latest flag will check ESGF\r\n",
      "  for the latest version available, this is the default behaviour\r\n",
      "\r\n",
      "Options:\r\n",
      "  -mip, --activity [AerChemMIP|C4MIP|CDRMIP|CFMIP|CMIP|CORDEX|DAMIP|DCPP|DynVarMIP|FAFMIP|GMMIP|GeoMIP|HighResMIP|ISMIP6|LS3MIP|LUMIP|OMIP|PAMIP|PMIP|RFMIP|SIMIP|ScenarioMIP|VIACSAB|VolMIP]\r\n",
      "  -e, --experiment x              CMIP6 experiment, list of available depends\r\n",
      "                                  on activity\r\n",
      "  --source_type [AER|AGCM|AOGCM|BGC|CHEM|ISM|LAND|OGCM|RAD|SLAB]\r\n",
      "  -t, --table x                   CMIP6 CMOR table: Amon, SIday, Oday ...\r\n",
      "  -m, --model, --source_id x      CMIP6 model id: GFDL-AM4, CNRM-CM6-1 ...\r\n",
      "  -v, --variable x                CMIP6 variable name as in filenames\r\n",
      "  -mi, --member TEXT              CMIP6 member id: <sub-exp-id>-r#i#p#f#\r\n",
      "  -g, --grid, --grid_label TEXT   CMIP6 grid label: i.e. gn for the model\r\n",
      "                                  native grid\r\n",
      "  -nr, --resolution, --nominal_resolution TEXT\r\n",
      "                                  Approximate resolution: '250 km', pass in\r\n",
      "                                  quotes\r\n",
      "  --frequency [1hr|1hrCM|1hrPt|3hr|3hrPt|6hr|6hrPt|day|dec|fx|mon|monC|monPt|subhrPt|yr|yrPt]\r\n",
      "  --realm [atmos|ocean|land|landIce|seaIce|aerosol|atmosChem|ocnBgchem]\r\n",
      "  -se, --sub_experiment_id TEXT   Only available for hindcast and forecast\r\n",
      "                                  experiments: sYYYY\r\n",
      "  -vl, --variant_label TEXT       Indicates a model variant: r#i#p#f#\r\n",
      "  --and [variable_id|experiment_id|table_id|realm|frequency|member_id|source_id|source_type|activity_id|grib_label|nominal_resolution|sub_experiment_id]\r\n",
      "                                  Attributes for which we want to add AND\r\n",
      "                                  filter, i.e. -v tasmin -v tasmax --and\r\n",
      "                                  variable_id will return only model/ensemble\r\n",
      "                                  that have both\r\n",
      "  --institution TEXT              Modelling group institution id: IPSL, NOAA-\r\n",
      "                                  GFDL ...\r\n",
      "  --cf_standard_name TEXT         CF variable standard_name, use instead of\r\n",
      "                                  variable constraint\r\n",
      "  --format [file|dataset]         Return output for datasets (default) or\r\n",
      "                                  individual files\r\n",
      "  --latest / --all-versions       Return only the latest version or all of\r\n",
      "                                  them. Default: --latest\r\n",
      "  --replica / --no-replica        Return both original files and replicas.\r\n",
      "                                  Default: --no-replica\r\n",
      "  --distrib / --no-distrib        Distribute search across all ESGF nodes.\r\n",
      "                                  Default: --distrib\r\n",
      "  --debug / --no-debug            Show debug output. Default: --no-debug\r\n",
      "  --help                          Show this message and exit.\r\n"
     ]
    }
   ],
   "source": [
    "!clef cmip6 --help"
   ]
  },
  {
   "cell_type": "markdown",
   "metadata": {},
   "source": [
    "Then, we will search available temperature and precipitation data in ScenarioMIP. See example below:"
   ]
  },
  {
   "cell_type": "code",
   "execution_count": 50,
   "metadata": {},
   "outputs": [
    {
     "name": "stdout",
     "output_type": "stream",
     "text": [
      "/g/data1b/oi10/replicas/CMIP6/ScenarioMIP/CNRM-CERFACS/CNRM-CM6-1/ssp126/r1i1p1f2/Amon/tas/gr/v20190219/\r\n",
      "/g/data1b/oi10/replicas/CMIP6/ScenarioMIP/CNRM-CERFACS/CNRM-ESM2-1/ssp126/r1i1p1f2/Amon/tas/gr/v20190328/\r\n",
      "\r\n",
      "Everything available on ESGF is also available locally\r\n"
     ]
    }
   ],
   "source": [
    "!clef cmip6  --activity ScenarioMIP  --experiment  ssp126 --member r1i1p1f2 --table Amon  --variable tas   --grid gr "
   ]
  },
  {
   "cell_type": "markdown",
   "metadata": {},
   "source": [
    "We can then set up values for CMIP6 attributions according to the CleF search results.\n",
    "\n",
    "CMIP6 data are organised according to its global attributes. We can access different data by changing attributes from the below directory:\n",
    "**/g/data1b/oi10/replicas/CMIP6/activity_id/institution_id/source_id/experiment_id\n",
    "/member_id/table_id/variable/grid_label/version/**\n",
    "\n",
    "For more information about CMIP6 drs tree (for more information, see this [documentation](https://docs.google.com/document/d/1h0r8RZr_f3-8egBMMh7aqLwy3snpD6_MrDz1q8n5XUk/edit).\n",
    "\n",
    "In SenarioMIP there are four future pathways of societal development, the Shared Socioeconomic Pathways (SSPs), in which ssp126 is the lowest emission senario. \n",
    "For information about SenarioMIP senarios, see here https://www.geosci-model-dev.net/9/3461/2016/   \n",
    "\n",
    "Below, we have set up these attributes in oreder to get the future projection data under the ssp126 senario using member 'r1i1p1f2' of CNRM_CM6-1 model simulations as an example. "
   ]
  },
  {
   "cell_type": "markdown",
   "metadata": {},
   "source": [
    "## Use Xarray to open data"
   ]
  },
  {
   "cell_type": "markdown",
   "metadata": {},
   "source": [
    "#### temperature"
   ]
  },
  {
   "cell_type": "code",
   "execution_count": 51,
   "metadata": {},
   "outputs": [
    {
     "data": {
      "text/plain": [
       "<xarray.DataArray 'tas' (time: 1032, lat: 128, lon: 256)>\n",
       "[33816576 values with dtype=float32]\n",
       "Coordinates:\n",
       "  * lat      (lat) float64 -88.93 -87.54 -86.14 -84.74 ... 86.14 87.54 88.93\n",
       "  * lon      (lon) float64 0.0 1.406 2.812 4.219 ... 354.4 355.8 357.2 358.6\n",
       "    height   float64 ...\n",
       "  * time     (time) datetime64[ns] 2015-01-16T12:00:00 ... 2100-12-16T12:00:00\n",
       "Attributes:\n",
       "    online_operation:    average\n",
       "    cell_methods:        area: time: mean\n",
       "    interval_operation:  900 s\n",
       "    interval_write:      1 month\n",
       "    standard_name:       air_temperature\n",
       "    description:         Near-Surface Air Temperature\n",
       "    long_name:           Near-Surface Air Temperature\n",
       "    history:             none\n",
       "    units:               K\n",
       "    cell_measures:       area: areacella"
      ]
     },
     "execution_count": 51,
     "metadata": {},
     "output_type": "execute_result"
    }
   ],
   "source": [
    "cmip6Dir='/g/data1b/oi10/replicas/CMIP6'\n",
    "activity='ScenarioMIP'\n",
    "institute='CNRM-CERFACS'\n",
    "source='CNRM-CM6-1'\n",
    "experiment='ssp126' \n",
    "member='r1i1p1f2'\n",
    "table='Amon'\n",
    "variable='tas'  \n",
    "grid='gr'\n",
    "version='v20190219'\n",
    "period='201501-210012'\n",
    "ds=xr.open_dataset(''+cmip6Dir+'/'+activity+'/'+institute+'/'+source+'/'+experiment+'/'+member+'/'+table+'/'+variable+'/'+grid+'/'+version+'/'+variable+'_'+table+'_'+source+'_'+experiment+'_'+member+'_'+grid+'_'+period+'.nc')\n",
    "tas=ds.tas\n",
    "tas"
   ]
  },
  {
   "cell_type": "markdown",
   "metadata": {},
   "source": [
    "#### precipitation"
   ]
  },
  {
   "cell_type": "code",
   "execution_count": null,
   "metadata": {},
   "outputs": [],
   "source": [
    "cmip6Dir='/g/data1b/oi10/replicas/CMIP6'\n",
    "activity='ScenarioMIP'\n",
    "institute='CNRM-CERFACS'\n",
    "source='CNRM-CM6-1'\n",
    "experiment='ssp126' \n",
    "member='r1i1p1f2'\n",
    "table='Amon'\n",
    "variable='pr'  \n",
    "grid='gr'\n",
    "version='v20190219'\n",
    "period='201501-210012'\n",
    "ds=xr.open_dataset(''+cmip6Dir+'/'+activity+'/'+institute+'/'+source+'/'+experiment+'/'+member+'/'+table+'/'+variable+'/'+grid+'/'+version+'/'+variable+'_'+table+'_'+source+'_'+experiment+'_'+member+'_'+grid+'_'+period+'.nc')\n",
    "pr=ds.pr\n",
    "pr"
   ]
  },
  {
   "cell_type": "code",
   "execution_count": null,
   "metadata": {},
   "outputs": [],
   "source": []
  }
 ],
 "metadata": {
  "kernelspec": {
   "display_name": "Python 3",
   "language": "python",
   "name": "python3"
  },
  "language_info": {
   "codemirror_mode": {
    "name": "ipython",
    "version": 3
   },
   "file_extension": ".py",
   "mimetype": "text/x-python",
   "name": "python",
   "nbconvert_exporter": "python",
   "pygments_lexer": "ipython3",
   "version": "3.7.3"
  }
 },
 "nbformat": 4,
 "nbformat_minor": 4
}
