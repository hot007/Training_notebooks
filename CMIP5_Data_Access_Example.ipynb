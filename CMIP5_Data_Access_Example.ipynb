{
 "cells": [
  {
   "cell_type": "markdown",
   "metadata": {},
   "source": [
    "# Search and Access CMIP5 data from NCI"
   ]
  },
  {
   "cell_type": "markdown",
   "metadata": {},
   "source": [
    "In this notebook, we demonstrate how to use CleF and Xarray to search and access CMIP5 data from NCI. You need to run this notebook in VDI so as to access data through file system. \n",
    "\n",
    "The following material uses Coupled Model Intercomparison Project (CMIP5) collections. The CMIP5 terms of use are found [here](https://cmip.llnl.gov/cmip5/terms.html). For more information on the collection, please click [here](https://geonetwork.nci.org.au/geonetwork/srv/eng/catalog.search#/metadata/f3525_9322_8600_7716)."
   ]
  },
  {
   "cell_type": "markdown",
   "metadata": {},
   "source": [
    "## Set up environment"
   ]
  },
  {
   "cell_type": "code",
   "execution_count": 1,
   "metadata": {},
   "outputs": [
    {
     "name": "stdout",
     "output_type": "stream",
     "text": [
      "/bin/sh: module: command not found\n",
      "/bin/sh: module: command not found\n"
     ]
    }
   ],
   "source": [
    "!module use /g/data3/hh5/public/modules\n",
    "!module load conda/analysis3"
   ]
  },
  {
   "cell_type": "markdown",
   "metadata": {},
   "source": [
    "We use Clef to search CMIP5 data path. Clef is now loaded for our use. \n",
    "\n",
    "Clef searches the Earth System Grid Federation datasets stored at the Australian National Computational Infrastructure, both data published on the NCI ESGF node as well as files that are locally replicated from other ESGF nodes.\n",
    "\n",
    "Currently it searches for the following datasets:\n",
    "\n",
    "- CMIP5 raijin projects: rr3, where NCI is the primary publisher and al33 for replicas\n",
    "- CMIP6 raijin projects: 0i10 for replicas\n",
    "\n",
    "For detailed information about using 'Clef', check out this [webpage](https://clef.readthedocs.io/en/latest/gettingstarted.html)."
   ]
  },
  {
   "cell_type": "markdown",
   "metadata": {},
   "source": [
    "## Import python packages"
   ]
  },
  {
   "cell_type": "code",
   "execution_count": 2,
   "metadata": {},
   "outputs": [
    {
     "name": "stderr",
     "output_type": "stream",
     "text": [
      "/anaconda3/lib/python3.7/site-packages/dask/config.py:168: YAMLLoadWarning: calling yaml.load() without Loader=... is deprecated, as the default Loader is unsafe. Please read https://msg.pyyaml.org/load for full details.\n",
      "  data = yaml.load(f.read()) or {}\n",
      "/anaconda3/lib/python3.7/site-packages/distributed/config.py:20: YAMLLoadWarning: calling yaml.load() without Loader=... is deprecated, as the default Loader is unsafe. Please read https://msg.pyyaml.org/load for full details.\n",
      "  defaults = yaml.load(f)\n"
     ]
    }
   ],
   "source": [
    "import xarray as xr\n",
    "%matplotlib inline"
   ]
  },
  {
   "cell_type": "markdown",
   "metadata": {},
   "source": [
    "## Use Clef -cmip5 to serach data"
   ]
  },
  {
   "cell_type": "markdown",
   "metadata": {},
   "source": [
    "First, check out help information to see search options in clef cmip5."
   ]
  },
  {
   "cell_type": "code",
   "execution_count": 54,
   "metadata": {},
   "outputs": [
    {
     "name": "stdout",
     "output_type": "stream",
     "text": [
      "Usage: clef cmip5 [OPTIONS] [QUERY]...\r\n",
      "\r\n",
      "  Search ESGF and local database for CMIP5 files\r\n",
      "\r\n",
      "  Constraints can be specified multiple times, in which case they are\r\n",
      "  combined    using OR: -v tas -v tasmin will return anything matching\r\n",
      "  variable = 'tas' or variable = 'tasmin'. The --latest flag will check ESGF\r\n",
      "  for the latest version available, this is the default behaviour\r\n",
      "\r\n",
      "Options:\r\n",
      "  -e, --experiment x              CMIP5 experiment: piControl, rcp85, amip ...\r\n",
      "  --experiment_family [Atmos-only|Control|Decadal|ESM|Historical|Idealized|Paleo|RCP]\r\n",
      "                                  CMIP5 experiment family: Decadal, RCP ...\r\n",
      "  -m, --model x                   CMIP5 model acronym: ACCESS1.3, MIROC5 ...\r\n",
      "  -t, --table, --mip [Amon|Omon|OImon|LImon|Lmon|6hrPlev|6hrLev|3hr|Oclim|Oyr|aero|cfOff|cfSites|cfMon|cfDay|cf3hr|day|fx|grids]\r\n",
      "  -v, --variable x                Variable name as shown in filanames: tas,\r\n",
      "                                  pr, sic ...\r\n",
      "  -en, --ensemble, --member TEXT  CMIP5 ensemble member: r#i#p#\r\n",
      "  --frequency [mon|day|3hr|6hr|fx|yr|monClim|subhr]\r\n",
      "  --realm [atmos|ocean|land|landIce|seaIce|aerosol|atmosChem|ocnBgchem]\r\n",
      "  --and [variable|experiment|cmor_table|realm|time_frequency|model|ensemble]\r\n",
      "                                  Attributes for which we want to add AND\r\n",
      "                                  filter, i.e. -v tasmin -v tasmax --and\r\n",
      "                                  variable will return only model/ensemble\r\n",
      "                                  that have both\r\n",
      "  --institution TEXT              Modelling group institution id: MIROC, IPSL,\r\n",
      "                                  MRI ...\r\n",
      "  --cf_standard_name TEXT         CF variable standard_name, use instead of\r\n",
      "                                  variable constraint\r\n",
      "  --format [file|dataset]         Return output for datasets (default) or\r\n",
      "                                  individual files\r\n",
      "  --latest / --all-versions       Return only the latest version or all of\r\n",
      "                                  them. Default: --latest\r\n",
      "  --replica / --no-replica        Return both original files and replicas.\r\n",
      "                                  Default: --no-replica\r\n",
      "  --distrib / --no-distrib        Distribute search across all ESGF nodes.\r\n",
      "                                  Default: --distrib\r\n",
      "  --debug / --no-debug            Show debug output. Default: --no-debug\r\n",
      "  --help                          Show this message and exit.\r\n"
     ]
    }
   ],
   "source": [
    "!clef cmip5 --help"
   ]
  },
  {
   "cell_type": "markdown",
   "metadata": {},
   "source": [
    "Then, we will search available temperature and precipitation data by defining all the parameters. See example below:"
   ]
  },
  {
   "cell_type": "code",
   "execution_count": null,
   "metadata": {},
   "outputs": [],
   "source": [
    "!clef cmip5  --activity ScenarioMIP  --source_id  CNRM-CM6-1 --table Amon  --variable tas  --variable pr   --grid gr "
   ]
  },
  {
   "cell_type": "markdown",
   "metadata": {},
   "source": [
    "<div class=\"alert alert-info\">\n",
    "<b>NOTE: </b>Due to different DRS (Directory Reference Structure) between CMIP5 and CMIP6, search syntax using clef is slightly different between two datasets. They have to be strictly consistent with each DRS tree and they are also case sensitive.   \n",
    "</div>\n",
    "\n",
    "So below instead: "
   ]
  },
  {
   "cell_type": "code",
   "execution_count": null,
   "metadata": {},
   "outputs": [],
   "source": [
    "!clef cmip5  --experiment rcp26  --ensemble r1i1p1 --table Amon   --variable tas --variable pr"
   ]
  },
  {
   "cell_type": "markdown",
   "metadata": {},
   "source": [
    "We can then set up values for CMIP5 attributions according to the CleF search results.\n",
    "\n",
    "CMIP5 data are organised according to its global attributes. We can access different data by changing attributes in the directory below:\n",
    "**/g/data/rr3//product/institute/model/experiment/frequency/realm/table/ensemble/version/variable**\n",
    "\n",
    "There are four Representative Concentration Pathways (RCPs) in CMIP5. These are greenhouse gas concentration (not emissions) trajectory adopted by the IPCC for its fifth Assessment Report (AR5) in 2014. It supersedes the Special Report on Emissions Scenarios (SRES) projections published in 2000. For more information, see [here]( https://sedac.ciesin.columbia.edu/ddc/ar5_scenario_process/RCPs.html).\n",
    " \n",
    "\n",
    "Below, we have set up these attributes in oreder to get the future projection data under the rcp26 senario using member 'r1i1p1' of 'MIROC-ESM' model simulations as an example. "
   ]
  },
  {
   "cell_type": "markdown",
   "metadata": {},
   "source": [
    "## Show data file names"
   ]
  },
  {
   "cell_type": "code",
   "execution_count": null,
   "metadata": {},
   "outputs": [],
   "source": [
    "!ls /g/data1b/al33/replicas/CMIP5/combined/MIROC/MIROC-ESM/rcp26/mon/atmos/Amon/r1i1p1/v20120710/tas/"
   ]
  },
  {
   "cell_type": "code",
   "execution_count": null,
   "metadata": {},
   "outputs": [],
   "source": [
    "!ls /g/data1b/al33/replicas/CMIP5/combined/MIROC/MIROC-ESM/rcp26/mon/atmos/Amon/r1i1p1/v20120710/pr/"
   ]
  },
  {
   "cell_type": "markdown",
   "metadata": {},
   "source": [
    "## Use Xarray to open data"
   ]
  },
  {
   "cell_type": "markdown",
   "metadata": {},
   "source": [
    "#### temperature"
   ]
  },
  {
   "cell_type": "code",
   "execution_count": null,
   "metadata": {},
   "outputs": [],
   "source": [
    "cmip5Dir='/g/data1b/al33/replicas/CMIP5'\n",
    "product='combined'\n",
    "institute='MIROC'\n",
    "model='MIROC-ESM'\n",
    "experiment='rcp26' \n",
    "frenquency='mon'\n",
    "realm='atmos'\n",
    "table='Amon'\n",
    "ensemble='r1i1p1'\n",
    "version='v20120710'\n",
    "variable='tas'  \n",
    "period='200601-210012'\n",
    "ds=xr.open_dataset(''+cmip5Dir+'/'+product+'/'+institute+'/'+model+'/'+experiment+'/'+frenquency+'/'+realm+'/'+table+'/'+ensemble+'/'+version+'/'+variable+'/'+variable+'_'+table+'_'+model+'_'+experiment+'_'+ensemble+'_'+period+'.nc')\n",
    "tas=ds.tas\n",
    "tas"
   ]
  },
  {
   "cell_type": "markdown",
   "metadata": {},
   "source": [
    "#### precipitation"
   ]
  },
  {
   "cell_type": "code",
   "execution_count": null,
   "metadata": {},
   "outputs": [],
   "source": [
    "cmip5Dir='/g/data1b/al33/replicas/CMIP5'\n",
    "product='combined'\n",
    "institute='MIROC'\n",
    "model='MIROC-ESM'\n",
    "experiment='rcp26' \n",
    "frenquency='mon'\n",
    "realm='atmos'\n",
    "table='Amon'\n",
    "ensemble='r1i1p1'\n",
    "version='v20120710'\n",
    "variable='pr'  \n",
    "period='200601-210012'\n",
    "ds=xr.open_dataset(''+cmip5Dir+'/'+product+'/'+institute+'/'+model+'/'+experiment+'/'+frenquency+'/'+realm+'/'+table+'/'+ensemble+'/'+version+'/'+variable+'/'+variable+'_'+table+'_'+model+'_'+experiment+'_'+ensemble+'_'+period+'.nc')\n",
    "pr=ds.pr\n",
    "pr"
   ]
  }
 ],
 "metadata": {
  "kernelspec": {
   "display_name": "Python 3",
   "language": "python",
   "name": "python3"
  },
  "language_info": {
   "codemirror_mode": {
    "name": "ipython",
    "version": 3
   },
   "file_extension": ".py",
   "mimetype": "text/x-python",
   "name": "python",
   "nbconvert_exporter": "python",
   "pygments_lexer": "ipython3",
   "version": "3.7.3"
  }
 },
 "nbformat": 4,
 "nbformat_minor": 4
}
