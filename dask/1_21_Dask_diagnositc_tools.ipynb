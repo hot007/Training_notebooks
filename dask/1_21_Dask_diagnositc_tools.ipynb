{
 "cells": [
  {
   "cell_type": "markdown",
   "metadata": {},
   "source": [
    "# Dask Diagnostic Tools"
   ]
  },
  {
   "cell_type": "markdown",
   "metadata": {},
   "source": [
    "In this notebook we demonstrate a few diagnostic tools to examine the code excuation and performance. \n",
    "\n",
    "* Visualize task graphs\n",
    "* Local diagnostics tools\n",
    "* Distributed diagnostics tools\n",
    "---"
   ]
  },
  {
   "cell_type": "markdown",
   "metadata": {},
   "source": [
    "- Authors: NCI Virtual Research Environment Team\n",
    "- Keywords: Dask, Diagnostics\n",
    "- Create Date: 2020-June\n",
    "- Lineage/Reference: This tutorial is developed based on [Dask documentation](https://docs.dask.org/en/latest/understanding-performance.html).\n",
    "---"
   ]
  },
  {
   "cell_type": "markdown",
   "metadata": {},
   "source": [
    "### Prerequisite\n",
    "\n",
    "The following modules are needed:\n",
    "\n",
    "* Dask\n",
    "* Bokeh"
   ]
  },
  {
   "cell_type": "markdown",
   "metadata": {},
   "source": [
    "## Dask offer code profiling tools\n",
    "\n",
    "The first step in making computations run quickly is to understand the costs involved. The Dask schedulers come with diagnostics to help you understand the performance characteristics of your computations. By using these diagnostics and with some thought, we can often identify the slow parts of troublesome computations."
   ]
  },
  {
   "cell_type": "markdown",
   "metadata": {},
   "source": [
    "### Visualize task graphs"
   ]
  },
  {
   "cell_type": "code",
   "execution_count": null,
   "metadata": {},
   "outputs": [],
   "source": [
    "import dask.array as da\n",
    "import graphviz\n",
    "x = da.ones((15,15), chunks=(5,5))\n",
    "y = x + x.T\n",
    "y.visualize()"
   ]
  },
  {
   "cell_type": "code",
   "execution_count": null,
   "metadata": {},
   "outputs": [],
   "source": [
    "z = x.dot(x.T + 1) - x.mean(axis=0)\n",
    "z.visualize()"
   ]
  },
  {
   "cell_type": "markdown",
   "metadata": {},
   "source": [
    "### Diagnostics (local)\n",
    "\n",
    "`Dask.diagnostics` provides functionality to aid in profiling and inspecting execution with the local task scheduler.\n",
    "\n",
    "This page describes the following few built-in options:\n",
    "\n",
    "- ProgressBar\n",
    "- Profiler\n",
    "- ResourceProfiler\n",
    "- CacheProfiler"
   ]
  },
  {
   "cell_type": "markdown",
   "metadata": {},
   "source": [
    "#### Progress Bar\n",
    "\n",
    "The `ProgressBar` class builds on the scheduler callbacks described above to display a progress bar in the terminal or notebook during computation. This can give a nice feedback during long running graph execution. It can be used as a context manager around calls to `get` or `compute` to profile the computation:"
   ]
  },
  {
   "cell_type": "code",
   "execution_count": 4,
   "metadata": {},
   "outputs": [
    {
     "name": "stdout",
     "output_type": "stream",
     "text": [
      "[                                        ] | 0% Completed |  0.1s"
     ]
    },
    {
     "name": "stderr",
     "output_type": "stream",
     "text": [
      "/anaconda3/lib/python3.7/site-packages/dask/array/routines.py:239: PerformanceWarning: Increasing number of chunks by factor of 10\n",
      "  axes=(left_axes, right_axes))\n"
     ]
    },
    {
     "name": "stdout",
     "output_type": "stream",
     "text": [
      "[########################################] | 100% Completed | 19.6s\n"
     ]
    }
   ],
   "source": [
    "from dask.diagnostics import ProgressBar\n",
    "a = da.random.normal(size=(10000, 10000), chunks=(1000, 1000))\n",
    "res = a.dot(a.T).mean(axis=0)\n",
    "\n",
    "with ProgressBar():\n",
    "    out = res.compute()"
   ]
  },
  {
   "cell_type": "markdown",
   "metadata": {},
   "source": [
    "or registered globally using the `register` method:"
   ]
  },
  {
   "cell_type": "code",
   "execution_count": 5,
   "metadata": {},
   "outputs": [
    {
     "name": "stdout",
     "output_type": "stream",
     "text": [
      "[########################################] | 100% Completed | 19.6s\n"
     ]
    }
   ],
   "source": [
    "pbar = ProgressBar()\n",
    "pbar.register()\n",
    "out = res.compute()"
   ]
  },
  {
   "cell_type": "markdown",
   "metadata": {},
   "source": [
    "To unregister from the global callbacks, call the `unregister` method:"
   ]
  },
  {
   "cell_type": "code",
   "execution_count": 6,
   "metadata": {},
   "outputs": [],
   "source": [
    "pbar.unregister()"
   ]
  },
  {
   "cell_type": "markdown",
   "metadata": {},
   "source": [
    "#### Profiler - A profiler for task excution at task level\n",
    "\n",
    "Dask provides a few tools for profiling execution. As with the `ProgressBar`, they each can be used as context managers or registered globally.\n",
    "\n",
    "The `Profiler` class is used to profile Dask’s execution at the task level. During execution, it records the following information for each task:\n",
    "\n",
    "1. Key\n",
    "2. Task\n",
    "3. Start time in seconds since the epoch\n",
    "4. Finish time in seconds since the epoch\n",
    "5. Worker id\n"
   ]
  },
  {
   "cell_type": "markdown",
   "metadata": {},
   "source": [
    "#### ResourceProfiler - A profile for resource use"
   ]
  },
  {
   "cell_type": "markdown",
   "metadata": {},
   "source": [
    "The `ResourceProfiler` class is used to profile Dask’s execution at the resource level. During execution, it records the following information for each timestep:\n",
    "\n",
    "1. Time in seconds since the epoch\n",
    "2. Memory usage in MB\n",
    "3. % CPU usage"
   ]
  },
  {
   "cell_type": "markdown",
   "metadata": {},
   "source": [
    "#### CacheProfiler - A profiler for dask execution at the scheduler cache level.\n",
    "\n",
    "The `CacheProfiler` class is used to profile Dask’s execution at the scheduler cache level. During execution, it records the following information for each task:\n",
    "\n",
    "1. Key\n",
    "2. Task\n",
    "3. Size metric\n",
    "4. Cache entry time in seconds since the epoch\n",
    "5. Cache exit time in seconds since the epoch"
   ]
  },
  {
   "cell_type": "markdown",
   "metadata": {},
   "source": [
    "### Example\n",
    "\n",
    "As an example to demonstrate using the diagnostics, we’ll profile some linear algebra done with Dask Array. We’ll create a random array, take its QR decomposition, and then reconstruct the initial array by multiplying the Q and R components together. Note that since the profilers (and all diagnostics) are just context managers, multiple profilers can be used in a with block:"
   ]
  },
  {
   "cell_type": "code",
   "execution_count": 14,
   "metadata": {},
   "outputs": [],
   "source": [
    "import dask.array as da\n",
    "from dask.diagnostics import Profiler, ResourceProfiler, CacheProfiler\n",
    "a = da.random.random(size=(10000, 1000), chunks=(1000, 1000))\n",
    "q, r = da.linalg.qr(a)\n",
    "a2 = q.dot(r)\n",
    "\n",
    "with Profiler() as prof, ResourceProfiler(dt=0.25) as rprof, CacheProfiler() as cprof:\n",
    "    out = a2.compute()"
   ]
  },
  {
   "cell_type": "code",
   "execution_count": null,
   "metadata": {},
   "outputs": [],
   "source": [
    "EnsNum=2\n",
    "DS=[]\n",
    "for i in range(1,EnsNum+1): #loop through ensemble members\n",
    "    #concatenate data on time coordinate\n",
    "    data=xr.open_mfdataset('/g/data/fs38/publications/CMIP6/CMIP/CSIRO-ARCCSS/ACCESS-CM2/historical/r'+str(i)+'i1p1f1/day/pr/gn/v*/pr_day_ACCESS-CM2_historical_r'+str(i)+'i1p1f1_gn_*.nc',combine='nested', concat_dim='time' )\n",
    "    DS.append(data)\n",
    "ds=xr.concat([DS[i] for i in range(EnsNum)],'ensemble')\n",
    "pr_mean = ds['pr'].mean(dim='time')\n",
    "spread = (pr_mean.max(dim='ensemble')\n",
    "        - pr_mean.min(dim='ensemble'))\n",
    "\n",
    "with Profiler() as prof, ResourceProfiler(dt=0.25) as rprof, CacheProfiler() as cprof:\n",
    "spread = spread.persist()"
   ]
  },
  {
   "cell_type": "markdown",
   "metadata": {},
   "source": [
    "The results of each profiler are stored in their `results` attribute as a list of `namedtuple` objects:"
   ]
  },
  {
   "cell_type": "code",
   "execution_count": 15,
   "metadata": {},
   "outputs": [
    {
     "data": {
      "text/plain": [
       "TaskData(key=('random_sample-qr-e13da930fb68d042e516faef84fee342', 0, 0), task=(subgraph_callable, (<function _apply_random at 0x10da8cd90>, None, 'random_sample', array([2352970788, 1106497063, 1985962136,  567476613,  695996394,\n",
       "       3277336804, 2816172410, 2576008344, 1256144496, 1407341517,\n",
       "       4148684316,  662554608, 1020627637, 1332010898, 1606336784,\n",
       "       1083588411, 1401081059, 1727811835, 2423538513,  816051187,\n",
       "       3920780450, 1926128597, 2180290048, 1843335725, 2721202558,\n",
       "         35981183, 1033091794, 2489108023, 4173760115, 1275431890,\n",
       "       2216992865, 1066299213,  664668673, 4117611252, 2241620501,\n",
       "       2728208303, 3886258932, 1879777596,  445709750, 2456039505,\n",
       "       3564448120, 4087796328, 1143039758, 4276280980, 1820770161,\n",
       "       4038931312, 4239518836,  868435338, 4033995970, 1319165279,\n",
       "       1259761681, 4213504004, 2988178456, 4094259608, 3966210653,\n",
       "       2975935965, 2458248388, 3813625304, 1518310746, 1614197992,\n",
       "       1475138467,  246377294,  933053811, 2195541329, 4256624671,\n",
       "        373663811, 1874508691,  143459367, 1845732980, 3131126192,\n",
       "       1190435262,  348656923, 2466723221, 2603588551, 3736983495,\n",
       "       2486743362, 2626267214, 3309918790, 3559407334, 1978257269,\n",
       "       3079144465, 3644576957,  380498754, 1238752399, 1267024372,\n",
       "       3421989026, 3424379718,  798321874, 2812254386,   35376555,\n",
       "        924645777,  648352294,  640035069, 2951938622, 2376775456,\n",
       "        812595944, 1977145053, 2987714908, 1009931042,  566557500,\n",
       "        112505083, 3744938862, 1284432223, 1537248616, 1141389741,\n",
       "       3259527219,  879182912,  989203190, 1164419185,  779027155,\n",
       "       3393419770,  648990964, 3576467770, 2694560274, 2417680864,\n",
       "       3821314719,  849660559,  677344712, 2611666166, 3470558003,\n",
       "        371710469,  759693099, 2647615956, 3617559488,  583903454,\n",
       "        899213127, 2954265301,  111484126, 2041646035,  409161064,\n",
       "       2159045928, 1217249972, 1454224242, 3326232541, 3361923024,\n",
       "        638800743, 1729166834, 3631747013, 4179388484, 3457040017,\n",
       "       4190362224, 2573702847, 3753546372, 3037349292, 3570788320,\n",
       "       4161641672, 2093106631,  940508794,  130207790, 1609160617,\n",
       "       3997242529, 3194844597, 1561753744,  898801665, 2406640834,\n",
       "        538728371, 2030099192, 3275283309, 2874552730, 3510982364,\n",
       "       3164437737, 4184176365, 1916758111, 1077945138, 3475983254,\n",
       "         80775410, 4100591511, 2880293490, 3145330206, 1358680077,\n",
       "       4034685297,  206282396, 2641262104, 2904292914, 1481527900,\n",
       "       1844685755,  115593509, 3841717483, 1204599502,  246848664,\n",
       "       3243959283, 4181993370, 2711683605, 2697633919,  358500455,\n",
       "        461458776,  280124185, 2729499091, 3807245017,  916712646,\n",
       "       4232952720, 1006399386, 1980651702, 3325825683,  520168492,\n",
       "       3844489256, 1857926981,  486620926,  785969721, 2262192673,\n",
       "        823221975,   94295871, 3456899343, 3842296449, 2450994851,\n",
       "       3152644230, 3637086828, 3201243185, 1151330259, 3119473756,\n",
       "       3343377634, 3940918256, 1532476665,  452566535, 3881389886,\n",
       "       3851998309, 1293985060, 2775114905, 1842786131, 3811092344,\n",
       "        611203926, 3160679827, 3482747300, 2903710833, 2881410537,\n",
       "        537951735, 2008223699, 3247638291, 3283718376,  888265691,\n",
       "       3627381452,  188385987, 2082873837, 2239304942, 1751799571,\n",
       "       3497650334, 2268956667, 4209541562, 2138132217, 4172362660,\n",
       "       1821084651, 2036927185, 3334153542,  846290656, 4153935007,\n",
       "        622071566, 3838312092, 2747015519, 1866447435, 2433556983,\n",
       "       1565880498,  314952972, 1435999734,  405257069, 2825197457,\n",
       "         19147900, 1831551383, 1455247459, 3630200513,  972111897,\n",
       "       4071756671,  850425230, 3294100054, 3035129871, 1805509400,\n",
       "       2867403473,  485150059, 3002951195, 1225267808,   28328360,\n",
       "       3081084137,  308531751, 1660762136, 3746663639,  148357003,\n",
       "       3599975447, 2964614555, 1501639046, 3097650883,  901125364,\n",
       "        311809652, 1991460591, 1161254629, 1533586049, 4063087733,\n",
       "       1899044966, 2041358310, 4121163297, 2515759450, 1413507457,\n",
       "       3218512109, 1572447561, 3965379253,  490556651, 1631011296,\n",
       "        305870525, 2675345675, 1146485624,  920684312, 3195133649,\n",
       "        822043915,  632812799, 3480704916, 1874768265,  528171078,\n",
       "       1065466261, 4096028432, 1136111429, 4001285959, 2401949570,\n",
       "       3159348770,  789935484,   26605862, 1615845612, 2191631814,\n",
       "       3399737522, 3685473903,  464058018, 3526730228, 1157065896,\n",
       "       2691750406, 1368120527,  225009719, 2364151289, 2208066632,\n",
       "       1974631423,  301023989, 2433462673, 1823666831, 4141475053,\n",
       "       1748444740, 2678521038,  462774553, 1832179254, 1423557651,\n",
       "       2320896248, 3672002534, 2618833203, 3769330772, 1810263899,\n",
       "       2945490091, 1559694803, 1543410629, 2140359155, 1608021982,\n",
       "       4067757916,  314250878,  789936736,  401990311, 1884828685,\n",
       "       2617352209, 2306828213,  339153984,  978270890, 1842456742,\n",
       "       2790667299, 3979885906,  800406737, 2524671286, 2999227658,\n",
       "        220685147,  452655423, 1836601638,  966791378, 3135968846,\n",
       "       2309117175, 1605402542, 1498986063, 3746855405, 2150547451,\n",
       "       1038835465, 2437802261,  374065321,  243287150, 3356874104,\n",
       "       1252067375, 1897548967,  737601651, 3344509473, 3487842159,\n",
       "       2608033168,  164290736, 2283895743, 4043338592, 3588385767,\n",
       "       1901175997, 3207450213,  965155557, 2426360133,    5774865,\n",
       "       3028677313,  832114120, 1415923376, 3132977206, 2996067055,\n",
       "        552966487, 3200326573, 3654105320, 2088612408, 3727700412,\n",
       "       3006837898,  903027686,  387979523,  183866183,  198568180,\n",
       "       1878014721, 1875145463, 3899140820, 1442993001, 4048782908,\n",
       "       3111716007,  596192819, 2314667231, 2426936359, 1191011400,\n",
       "       3806635669,  617863927, 4116492124, 1272239156, 3344885475,\n",
       "       2070733907, 3177113786, 3244294078, 1576102737, 2282368602,\n",
       "        248335341,  219684652, 1947743048, 2773015007, 2616020476,\n",
       "       3638524388, 3902121588, 2000272953, 1631397165, 2037727402,\n",
       "       1282924323,  423558841, 2536102195, 2650219289, 3585081578,\n",
       "       2502657500, 2190862074, 3590107422, 3875306774,  480255172,\n",
       "       3771851000,  560058668,  631528764,  151051762, 3770268225,\n",
       "       2432070962, 3149866290, 2112253747, 4044179446,  717273318,\n",
       "       2887329823, 2668194107,  727498189,  519094719, 3507006302,\n",
       "       4113691800, 2594968647, 4035904796, 2383853971, 3261961942,\n",
       "       3853854743, 3841279045, 4048639676, 3672437399,  351341795,\n",
       "       2908795850, 2571907160,   88182169, 1672321555, 2048051061,\n",
       "       2155019180, 2784155280, 1198947615, 1631192403, 2373986778,\n",
       "       4128799686, 1829716525, 2777306941,  562117914, 1910544839,\n",
       "       1461566830,  862379955, 1067777852, 3050867388, 4033065080,\n",
       "       1380334368, 4016746281,  122286770, 2857367823, 1593316322,\n",
       "       3731864017, 2101770172, 3065606117,  246379910,    9634231,\n",
       "       1763300756, 1396196169,  281642716,  493030134, 2211036809,\n",
       "        315978389, 3253538856, 1450055274, 1304300703,  572615105,\n",
       "       1439730289, 1103314921, 2377534203, 3808945911, 2112428909,\n",
       "       3653322133,  626327307,  682178514,  679781352, 1912344793,\n",
       "        878743872, 3281235978, 3509830617,   51002145,  572091574,\n",
       "       3488318813, 3314189953, 2892369378, 2066140548,  851680776,\n",
       "       3052492271, 2956914271, 1596909874, 2132551336, 1610135890,\n",
       "       2219943772, 4284635312, 3920140358,  700980841,  627090147,\n",
       "       1484708891,  296459696, 3000691618, 3244067077, 1607839460,\n",
       "       1137714237, 1154035987, 1274762353, 2529881282, 3244054301,\n",
       "       1531120624, 2515363716, 2228994888, 2138655119, 3761224254,\n",
       "       2371988979, 2253646081, 3572294948, 1586446257, 3734098719,\n",
       "       3571638945, 3098275048, 2960463081, 3858544514, 2807332791,\n",
       "        299975560, 2479356396,   41121432, 2595070821, 1271078889,\n",
       "       1560068426, 2448702759, 3580605248, 2512572715,  870566264,\n",
       "       4085687715, 3266523510, 4233821374,  568971394, 2006384160,\n",
       "       2350877600, 1820154081,  167428729, 1038331915, 3641620385,\n",
       "       1652318388,  584520758, 1871037876, 2347129357, 4075518951,\n",
       "       4256948209, 2586875196, 3409228796, 1450104325, 1524109884,\n",
       "          2935894, 4103165620, 2995186038, 3100062608, 4221900311,\n",
       "       2453567401, 2851726734, 2001647286, 3018834899, 2625973957,\n",
       "       2036019851, 3563793109,  315846149, 1842448874, 3039930004,\n",
       "       1485384162, 3107066171, 2771257419,  950769909, 3199205088,\n",
       "       1222063829, 2708734046, 1177358077, 3256158057, 2276951137,\n",
       "         91492204, 4152303187, 3874815913, 3474768015], dtype=uint32), (1000, 1000), [], {})), start_time=1633.895216813, end_time=1634.347890741, worker_id=123145358802944)"
      ]
     },
     "execution_count": 15,
     "metadata": {},
     "output_type": "execute_result"
    }
   ],
   "source": [
    "prof.results[0]"
   ]
  },
  {
   "cell_type": "code",
   "execution_count": 16,
   "metadata": {},
   "outputs": [
    {
     "data": {
      "text/plain": [
       "ResourceData(time=1633.931133371, mem=259.330048, cpu=0.0)"
      ]
     },
     "execution_count": 16,
     "metadata": {},
     "output_type": "execute_result"
    }
   ],
   "source": [
    "rprof.results[0]"
   ]
  },
  {
   "cell_type": "code",
   "execution_count": 17,
   "metadata": {},
   "outputs": [
    {
     "data": {
      "text/plain": [
       "CacheData(key=('random_sample-qr-e13da930fb68d042e516faef84fee342', 3, 0), task=(subgraph_callable, (<function _apply_random at 0x10da8cd90>, None, 'random_sample', array([4176503746, 1699941622, 2565477107, 3099543627, 1572395310,\n",
       "       3708003615, 3187202975,  942891745, 4286064925, 3838466039,\n",
       "       1456913696,   42737524, 3039175080, 3947846617, 1715833610,\n",
       "        833903820, 1071356007, 2363202930, 4266157280,  685572191,\n",
       "        447666554, 1124511246, 3323798228, 1910864487, 1548026100,\n",
       "        870167142,  631966415,   39222057, 2797187756, 2015861294,\n",
       "        617589821,  960498947, 4231639365,  433136232, 2620848739,\n",
       "       3176108931, 1101585023,  690493466, 2454148260, 1473786954,\n",
       "       2083582098,  618193632, 2245141561, 3964212234, 3847755882,\n",
       "       1787842616, 3416930972, 1926207738, 2421534791, 3748341231,\n",
       "       1398063168, 1783226888, 3445768866, 3071540976, 1497134927,\n",
       "       1100563066, 3291449361, 4006170652,  775109587, 1236650384,\n",
       "       3281466446, 3329537769, 4252956867, 3194830337, 3262492533,\n",
       "       3707834290,  211868264,  343001119, 2190636258,  851054930,\n",
       "        576805745, 3152757238, 3943257569, 1926916122,  515955727,\n",
       "       3548822140, 1739217493, 2175488906, 1240676719, 1406065196,\n",
       "       1398507939, 1783588163, 3366802848, 1879890129,  669965012,\n",
       "       2295225708, 2719704216, 2115286424, 1949077565,  491170134,\n",
       "       4241019049, 4169740370, 2473991056,  202704820, 1050976336,\n",
       "       2691573479, 2710316067, 3909710216, 2249091333,   23822803,\n",
       "        717321375, 2208647365, 2996203506, 1944696396,  319670242,\n",
       "       2971706715, 1061512392, 2626743505, 2032013803, 2703642040,\n",
       "        132612127, 3290130255, 4163409483, 3470209423, 1960396686,\n",
       "       1492842970, 2150843433, 1695393685, 2612897465,  151919918,\n",
       "        893276313, 2847040314, 3117250017, 4266242250,   22240412,\n",
       "       2929609967, 1897813973, 2683824189, 2491862908,  170937412,\n",
       "       3113196125, 1788522884, 3960272877,   67064599, 1289919724,\n",
       "       4147680247, 3520937004, 1047480804, 3311341102, 3522391540,\n",
       "       2399858214,  619279248,  925735398, 4285036116, 3776666797,\n",
       "        591460297, 2817872337, 3433185778, 1473452948, 1295929686,\n",
       "       2522051770, 3275481066, 1333552556,  270621603,  486958593,\n",
       "       1497161770, 2219402454, 2728476135, 2204708872, 3192588950,\n",
       "        317268885, 2409351400, 1813211393, 1614411151, 3320253710,\n",
       "       3591921694,  302385954, 2147519725, 4215591247, 1521190368,\n",
       "       1770535875,   37606445, 4113747704, 2842349162, 3217308020,\n",
       "       4048501713, 3332873935, 3547779848, 1576962335, 2548376752,\n",
       "       2562324863, 3911406537,  318716482, 1012977048, 3020299244,\n",
       "       1402328141, 1069960162, 3146592854, 1402428377, 1930132990,\n",
       "       2128171662, 3466948515,  736038907, 1832837230,  260915965,\n",
       "       3796427598, 1725528345, 3179428392, 3639299116,  449656112,\n",
       "       3549898380,  166597214, 3319688048, 2373012006,  942001000,\n",
       "        656459805, 2293127621, 3847418627,  918840636,  442085485,\n",
       "        866412804, 2515430606, 1879586213, 2839731579, 1894165463,\n",
       "       2397372620, 3316118606, 2082132396, 1754781050, 3704192214,\n",
       "       3934599165,  359934955, 2852574476,  821007080, 1145621435,\n",
       "       2638313646, 1750940856, 2799511827, 3521368559, 2316962167,\n",
       "       2126639016, 2319814987, 1541507568, 2650916986,  890636904,\n",
       "       3139410606, 1792775134, 2995029092,   29360987, 3124330443,\n",
       "       2115579749,  315708957, 4176565613, 2955594542,  427833420,\n",
       "       1455687174, 4262464235, 2882788385, 2736004582, 2900306783,\n",
       "       2141659738, 1091322341,  332578437,  256300956, 2828292042,\n",
       "       1846408487,  913040621, 1678431394, 1614392884, 1644038461,\n",
       "       3140256155,  685038879, 1125425633, 2119567685, 2671250754,\n",
       "        556816474, 1774378577, 4179159188,  382715059, 1724072587,\n",
       "       4288145045, 2422810710, 3524208016, 3157724813, 2096412319,\n",
       "       3397779046, 2959747055, 2305389105, 3687505909, 3320122286,\n",
       "         26562096, 3817169572, 3664423668, 2296750501, 3797777882,\n",
       "       2382670003, 1121486885, 2857914206, 4041524148, 1158283853,\n",
       "       1020285280, 2172464854, 1124262652, 2262947727,  540938562,\n",
       "        278559557, 1905567818, 2220367871, 1095935648, 2357157671,\n",
       "        247189300,  583961162, 2210439274, 1619169894,  645461378,\n",
       "       3320073711, 1167489678, 3828051930, 3645944716, 2087024617,\n",
       "        671703270, 4030055869,  642585528, 3449850672, 2898566749,\n",
       "       1856752636, 1722176174, 3221427013,  513881631, 1266483775,\n",
       "        433823401, 2491125763, 2156031622, 4043101674, 3388248772,\n",
       "       4081155415,  304674901, 3527146861, 3256605797, 2847225335,\n",
       "       3070044617,  367034932, 1452608007, 1624110345, 2810352271,\n",
       "       3985595517,   90541483, 2696862524, 2667555995,  273744769,\n",
       "       1658369657, 1051044916,  361398440,  671693003,  266613564,\n",
       "       3086631550,  513362378,    4521252, 2808917478, 2213216692,\n",
       "        516986788, 1031197853, 1624637311,  306383102, 3995822797,\n",
       "       2635456649,  952524442, 1954836403,  929113301, 1324633395,\n",
       "       3608268187,   45019992, 3858532810,  859554770, 2778648378,\n",
       "       3168836271, 3104688373, 3478762998, 2834877872, 3239126780,\n",
       "        619843609, 1357716535, 3606842671, 2472822936, 1699665540,\n",
       "       2962191564,  328189831, 1150549963, 1777002304,  307465554,\n",
       "       3991988178,  224593147, 1988530686, 2177269661, 1930308317,\n",
       "       3345652412, 1425044401, 1124961002, 1392035434, 2117079750,\n",
       "       3408613478, 3873019624,  201308378,  330374649, 1372995033,\n",
       "        763674411, 4023799818, 2346464851,  458160249, 1935982214,\n",
       "       3343145613, 2899805998, 3108024942, 2204586683,  379449686,\n",
       "       2799531402, 1755132381, 2912758660,  393308871, 2863537953,\n",
       "       2189012985, 2860937289, 2411905463, 2006133937, 2078310434,\n",
       "       3413857871,  501492958, 1899814176, 2736320879, 3901741106,\n",
       "       2026747105, 1839598333, 1202360672, 2610454816, 3594251954,\n",
       "       3901410632, 1033966730, 1683164016, 2567483517, 1231663235,\n",
       "       1207387770, 1617095576, 1269575474,  653410862,   70727896,\n",
       "       1036516332,  580047408, 3782906782, 1980550290, 3012673505,\n",
       "       4125375062,  637844977, 1929178370,  941176964, 3467090142,\n",
       "       2455332943, 2355596016,  659822444, 1149440597, 4111195572,\n",
       "       1591493159, 1030139049, 4038732041, 3289996891, 3238158305,\n",
       "       3365645440,  547448373,  369173684, 3558569712, 2465010969,\n",
       "       3007890725, 4094530642, 2191550464, 1386201174, 3657475595,\n",
       "        337997167,  535090237, 3960844110, 1619085598, 3980384999,\n",
       "        847717265, 3656197571, 2336515846, 1896043301, 4195618767,\n",
       "        780678017, 2436897239, 4155615482, 1597797250, 3434696940,\n",
       "       3905197924, 3407474942,  865747223, 3401943082, 1516598956,\n",
       "       1517575136, 3600805984, 1619163263, 2795114669,   15187075,\n",
       "       4279505593, 2150294879, 1288563953, 3424702094, 3332245408,\n",
       "       3525966305, 2910391974, 3931307715, 3241584696, 2233967249,\n",
       "       2781681225, 3477334571,  859073038,  237058015, 1780091529,\n",
       "        466024450,  470430705, 2701375950, 2717733069, 1260288145,\n",
       "        935359665, 1732626526, 2145016304, 1902180737, 2058482272,\n",
       "       4126856762, 2617231250, 3327701688, 3692625562,   80576935,\n",
       "       2972804561, 1709218279, 2320320682, 3429353489, 1480426525,\n",
       "       2632876519, 2589250650, 3231475678,  134308919, 4073533271,\n",
       "        317782507, 1140122700, 2031726969, 2951750194,  456236283,\n",
       "        519896729,  167039698,  715996667, 2619648910, 3797837816,\n",
       "       4238177246, 3143528567,  943429192, 3711925647, 1246586264,\n",
       "       4164100237,  894869278, 1383134663, 2717877220,  290762066,\n",
       "       1632983966, 1763195095,  505203835, 1162408921, 3750257623,\n",
       "       1268606945,  773686217, 3460896796, 3537014384, 2050973965,\n",
       "        548039708, 3955849435, 1478739506, 3992251469, 1595458441,\n",
       "         26613742, 2027327659, 3487900693, 3779595325,  237143699,\n",
       "       4160850683, 3463466680, 3088030193, 3763814863, 3988323887,\n",
       "        686417754,  129756208,  862586257,  602141950, 3508225329,\n",
       "       1064030532,  929645332, 2707100887, 1085718394, 2999956331,\n",
       "       3375796872, 3326441413,  525064466, 1671378095, 4109314181,\n",
       "       3713359329, 1460426939, 4287076890, 3665910914, 1692322896,\n",
       "       1147601579, 3178566357, 1145377046,  483682260,  519485575,\n",
       "       2677870947, 2893014089, 3490125570, 2452992281, 3468753211,\n",
       "       2643112779,  406325106, 3537431972, 2444604447, 2008614208,\n",
       "        787744581, 3881339098, 2175392367, 3433893443, 1602410942,\n",
       "        570666559, 2171492409,  477586318, 3211654757,  456873629,\n",
       "        428327359,  468543539, 1665057051, 1465317404], dtype=uint32), (1000, 1000), [], {})), metric=1, cache_time=1634.336014936, free_time=1634.336469295)"
      ]
     },
     "execution_count": 17,
     "metadata": {},
     "output_type": "execute_result"
    }
   ],
   "source": [
    "cprof.results[0]"
   ]
  },
  {
   "cell_type": "markdown",
   "metadata": {},
   "source": [
    "These can be analyzed separately or viewed in a bokeh plot using the provided `visualize` method on each profiler:"
   ]
  },
  {
   "cell_type": "code",
   "execution_count": 18,
   "metadata": {},
   "outputs": [
    {
     "data": {
      "text/html": [
       "<div style=\"display: table;\"><div style=\"display: table-row;\"><div style=\"display: table-cell;\"><b title=\"bokeh.plotting.figure.Figure\">Figure</b>(</div><div style=\"display: table-cell;\">id&nbsp;=&nbsp;'1002', <span id=\"1153\" style=\"cursor: pointer;\">&hellip;)</span></div></div><div class=\"1152\" style=\"display: none;\"><div style=\"display: table-cell;\"></div><div style=\"display: table-cell;\">above&nbsp;=&nbsp;[],</div></div><div class=\"1152\" style=\"display: none;\"><div style=\"display: table-cell;\"></div><div style=\"display: table-cell;\">aspect_scale&nbsp;=&nbsp;1,</div></div><div class=\"1152\" style=\"display: none;\"><div style=\"display: table-cell;\"></div><div style=\"display: table-cell;\">background_fill_alpha&nbsp;=&nbsp;{'value': 1.0},</div></div><div class=\"1152\" style=\"display: none;\"><div style=\"display: table-cell;\"></div><div style=\"display: table-cell;\">background_fill_color&nbsp;=&nbsp;{'value': '#ffffff'},</div></div><div class=\"1152\" style=\"display: none;\"><div style=\"display: table-cell;\"></div><div style=\"display: table-cell;\">below&nbsp;=&nbsp;[LinearAxis(id='1012', ...)],</div></div><div class=\"1152\" style=\"display: none;\"><div style=\"display: table-cell;\"></div><div style=\"display: table-cell;\">border_fill_alpha&nbsp;=&nbsp;{'value': 1.0},</div></div><div class=\"1152\" style=\"display: none;\"><div style=\"display: table-cell;\"></div><div style=\"display: table-cell;\">border_fill_color&nbsp;=&nbsp;{'value': '#ffffff'},</div></div><div class=\"1152\" style=\"display: none;\"><div style=\"display: table-cell;\"></div><div style=\"display: table-cell;\">css_classes&nbsp;=&nbsp;[],</div></div><div class=\"1152\" style=\"display: none;\"><div style=\"display: table-cell;\"></div><div style=\"display: table-cell;\">disabled&nbsp;=&nbsp;False,</div></div><div class=\"1152\" style=\"display: none;\"><div style=\"display: table-cell;\"></div><div style=\"display: table-cell;\">extra_x_ranges&nbsp;=&nbsp;{},</div></div><div class=\"1152\" style=\"display: none;\"><div style=\"display: table-cell;\"></div><div style=\"display: table-cell;\">extra_y_ranges&nbsp;=&nbsp;{},</div></div><div class=\"1152\" style=\"display: none;\"><div style=\"display: table-cell;\"></div><div style=\"display: table-cell;\">h_symmetry&nbsp;=&nbsp;True,</div></div><div class=\"1152\" style=\"display: none;\"><div style=\"display: table-cell;\"></div><div style=\"display: table-cell;\">height&nbsp;=&nbsp;None,</div></div><div class=\"1152\" style=\"display: none;\"><div style=\"display: table-cell;\"></div><div style=\"display: table-cell;\">hidpi&nbsp;=&nbsp;True,</div></div><div class=\"1152\" style=\"display: none;\"><div style=\"display: table-cell;\"></div><div style=\"display: table-cell;\">js_event_callbacks&nbsp;=&nbsp;{},</div></div><div class=\"1152\" style=\"display: none;\"><div style=\"display: table-cell;\"></div><div style=\"display: table-cell;\">js_property_callbacks&nbsp;=&nbsp;{},</div></div><div class=\"1152\" style=\"display: none;\"><div style=\"display: table-cell;\"></div><div style=\"display: table-cell;\">left&nbsp;=&nbsp;[CategoricalAxis(id='1017', ...)],</div></div><div class=\"1152\" style=\"display: none;\"><div style=\"display: table-cell;\"></div><div style=\"display: table-cell;\">lod_factor&nbsp;=&nbsp;10,</div></div><div class=\"1152\" style=\"display: none;\"><div style=\"display: table-cell;\"></div><div style=\"display: table-cell;\">lod_interval&nbsp;=&nbsp;300,</div></div><div class=\"1152\" style=\"display: none;\"><div style=\"display: table-cell;\"></div><div style=\"display: table-cell;\">lod_threshold&nbsp;=&nbsp;2000,</div></div><div class=\"1152\" style=\"display: none;\"><div style=\"display: table-cell;\"></div><div style=\"display: table-cell;\">lod_timeout&nbsp;=&nbsp;500,</div></div><div class=\"1152\" style=\"display: none;\"><div style=\"display: table-cell;\"></div><div style=\"display: table-cell;\">match_aspect&nbsp;=&nbsp;False,</div></div><div class=\"1152\" style=\"display: none;\"><div style=\"display: table-cell;\"></div><div style=\"display: table-cell;\">min_border&nbsp;=&nbsp;5,</div></div><div class=\"1152\" style=\"display: none;\"><div style=\"display: table-cell;\"></div><div style=\"display: table-cell;\">min_border_bottom&nbsp;=&nbsp;None,</div></div><div class=\"1152\" style=\"display: none;\"><div style=\"display: table-cell;\"></div><div style=\"display: table-cell;\">min_border_left&nbsp;=&nbsp;None,</div></div><div class=\"1152\" style=\"display: none;\"><div style=\"display: table-cell;\"></div><div style=\"display: table-cell;\">min_border_right&nbsp;=&nbsp;None,</div></div><div class=\"1152\" style=\"display: none;\"><div style=\"display: table-cell;\"></div><div style=\"display: table-cell;\">min_border_top&nbsp;=&nbsp;None,</div></div><div class=\"1152\" style=\"display: none;\"><div style=\"display: table-cell;\"></div><div style=\"display: table-cell;\">name&nbsp;=&nbsp;None,</div></div><div class=\"1152\" style=\"display: none;\"><div style=\"display: table-cell;\"></div><div style=\"display: table-cell;\">outline_line_alpha&nbsp;=&nbsp;{'value': 1.0},</div></div><div class=\"1152\" style=\"display: none;\"><div style=\"display: table-cell;\"></div><div style=\"display: table-cell;\">outline_line_cap&nbsp;=&nbsp;'butt',</div></div><div class=\"1152\" style=\"display: none;\"><div style=\"display: table-cell;\"></div><div style=\"display: table-cell;\">outline_line_color&nbsp;=&nbsp;{'value': '#e5e5e5'},</div></div><div class=\"1152\" style=\"display: none;\"><div style=\"display: table-cell;\"></div><div style=\"display: table-cell;\">outline_line_dash&nbsp;=&nbsp;[],</div></div><div class=\"1152\" style=\"display: none;\"><div style=\"display: table-cell;\"></div><div style=\"display: table-cell;\">outline_line_dash_offset&nbsp;=&nbsp;0,</div></div><div class=\"1152\" style=\"display: none;\"><div style=\"display: table-cell;\"></div><div style=\"display: table-cell;\">outline_line_join&nbsp;=&nbsp;'bevel',</div></div><div class=\"1152\" style=\"display: none;\"><div style=\"display: table-cell;\"></div><div style=\"display: table-cell;\">outline_line_width&nbsp;=&nbsp;{'value': 1},</div></div><div class=\"1152\" style=\"display: none;\"><div style=\"display: table-cell;\"></div><div style=\"display: table-cell;\">output_backend&nbsp;=&nbsp;'canvas',</div></div><div class=\"1152\" style=\"display: none;\"><div style=\"display: table-cell;\"></div><div style=\"display: table-cell;\">plot_height&nbsp;=&nbsp;300,</div></div><div class=\"1152\" style=\"display: none;\"><div style=\"display: table-cell;\"></div><div style=\"display: table-cell;\">plot_width&nbsp;=&nbsp;800,</div></div><div class=\"1152\" style=\"display: none;\"><div style=\"display: table-cell;\"></div><div style=\"display: table-cell;\">renderers&nbsp;=&nbsp;[LinearAxis(id='1012', ...), Grid(id='1016', ...), CategoricalAxis(id='1017', ...), Grid(id='1020', ...), GlyphRenderer(id='1036', ...)],</div></div><div class=\"1152\" style=\"display: none;\"><div style=\"display: table-cell;\"></div><div style=\"display: table-cell;\">right&nbsp;=&nbsp;[],</div></div><div class=\"1152\" style=\"display: none;\"><div style=\"display: table-cell;\"></div><div style=\"display: table-cell;\">sizing_mode&nbsp;=&nbsp;'fixed',</div></div><div class=\"1152\" style=\"display: none;\"><div style=\"display: table-cell;\"></div><div style=\"display: table-cell;\">subscribed_events&nbsp;=&nbsp;[],</div></div><div class=\"1152\" style=\"display: none;\"><div style=\"display: table-cell;\"></div><div style=\"display: table-cell;\">tags&nbsp;=&nbsp;[],</div></div><div class=\"1152\" style=\"display: none;\"><div style=\"display: table-cell;\"></div><div style=\"display: table-cell;\">title&nbsp;=&nbsp;Title(id='1001', ...),</div></div><div class=\"1152\" style=\"display: none;\"><div style=\"display: table-cell;\"></div><div style=\"display: table-cell;\">title_location&nbsp;=&nbsp;'above',</div></div><div class=\"1152\" style=\"display: none;\"><div style=\"display: table-cell;\"></div><div style=\"display: table-cell;\">toolbar&nbsp;=&nbsp;Toolbar(id='1026', ...),</div></div><div class=\"1152\" style=\"display: none;\"><div style=\"display: table-cell;\"></div><div style=\"display: table-cell;\">toolbar_location&nbsp;=&nbsp;'above',</div></div><div class=\"1152\" style=\"display: none;\"><div style=\"display: table-cell;\"></div><div style=\"display: table-cell;\">toolbar_sticky&nbsp;=&nbsp;True,</div></div><div class=\"1152\" style=\"display: none;\"><div style=\"display: table-cell;\"></div><div style=\"display: table-cell;\">v_symmetry&nbsp;=&nbsp;False,</div></div><div class=\"1152\" style=\"display: none;\"><div style=\"display: table-cell;\"></div><div style=\"display: table-cell;\">width&nbsp;=&nbsp;None,</div></div><div class=\"1152\" style=\"display: none;\"><div style=\"display: table-cell;\"></div><div style=\"display: table-cell;\">x_range&nbsp;=&nbsp;Range1d(id='1004', ...),</div></div><div class=\"1152\" style=\"display: none;\"><div style=\"display: table-cell;\"></div><div style=\"display: table-cell;\">x_scale&nbsp;=&nbsp;LinearScale(id='1008', ...),</div></div><div class=\"1152\" style=\"display: none;\"><div style=\"display: table-cell;\"></div><div style=\"display: table-cell;\">y_range&nbsp;=&nbsp;FactorRange(id='1006', ...),</div></div><div class=\"1152\" style=\"display: none;\"><div style=\"display: table-cell;\"></div><div style=\"display: table-cell;\">y_scale&nbsp;=&nbsp;CategoricalScale(id='1010', ...))</div></div></div>\n",
       "<script>\n",
       "(function() {\n",
       "  var expanded = false;\n",
       "  var ellipsis = document.getElementById(\"1153\");\n",
       "  ellipsis.addEventListener(\"click\", function() {\n",
       "    var rows = document.getElementsByClassName(\"1152\");\n",
       "    for (var i = 0; i < rows.length; i++) {\n",
       "      var el = rows[i];\n",
       "      el.style.display = expanded ? \"none\" : \"table-row\";\n",
       "    }\n",
       "    ellipsis.innerHTML = expanded ? \"&hellip;)\" : \"&lsaquo;&lsaquo;&lsaquo;\";\n",
       "    expanded = !expanded;\n",
       "  });\n",
       "})();\n",
       "</script>\n"
      ],
      "text/plain": [
       "Figure(id='1002', ...)"
      ]
     },
     "execution_count": 18,
     "metadata": {},
     "output_type": "execute_result"
    }
   ],
   "source": [
    "prof.visualize()"
   ]
  },
  {
   "cell_type": "markdown",
   "metadata": {},
   "source": [
    "To view multiple profilers at the same time, the `dask.diagnostics.visualize` function can be used. This takes a list of profilers and creates a vertical stack of plots aligned along the x-axis:"
   ]
  },
  {
   "cell_type": "code",
   "execution_count": 19,
   "metadata": {},
   "outputs": [
    {
     "data": {
      "text/html": [
       "<div style=\"display: table;\"><div style=\"display: table-row;\"><div style=\"display: table-cell;\"><b title=\"bokeh.models.layouts.Column\">Column</b>(</div><div style=\"display: table-cell;\">id&nbsp;=&nbsp;'1375', <span id=\"1874\" style=\"cursor: pointer;\">&hellip;)</span></div></div><div class=\"1873\" style=\"display: none;\"><div style=\"display: table-cell;\"></div><div style=\"display: table-cell;\">children&nbsp;=&nbsp;[ToolbarBox(id='1374', ...), Column(id='1372', ...)],</div></div><div class=\"1873\" style=\"display: none;\"><div style=\"display: table-cell;\"></div><div style=\"display: table-cell;\">css_classes&nbsp;=&nbsp;[],</div></div><div class=\"1873\" style=\"display: none;\"><div style=\"display: table-cell;\"></div><div style=\"display: table-cell;\">disabled&nbsp;=&nbsp;False,</div></div><div class=\"1873\" style=\"display: none;\"><div style=\"display: table-cell;\"></div><div style=\"display: table-cell;\">height&nbsp;=&nbsp;None,</div></div><div class=\"1873\" style=\"display: none;\"><div style=\"display: table-cell;\"></div><div style=\"display: table-cell;\">js_event_callbacks&nbsp;=&nbsp;{},</div></div><div class=\"1873\" style=\"display: none;\"><div style=\"display: table-cell;\"></div><div style=\"display: table-cell;\">js_property_callbacks&nbsp;=&nbsp;{},</div></div><div class=\"1873\" style=\"display: none;\"><div style=\"display: table-cell;\"></div><div style=\"display: table-cell;\">name&nbsp;=&nbsp;None,</div></div><div class=\"1873\" style=\"display: none;\"><div style=\"display: table-cell;\"></div><div style=\"display: table-cell;\">sizing_mode&nbsp;=&nbsp;'fixed',</div></div><div class=\"1873\" style=\"display: none;\"><div style=\"display: table-cell;\"></div><div style=\"display: table-cell;\">subscribed_events&nbsp;=&nbsp;[],</div></div><div class=\"1873\" style=\"display: none;\"><div style=\"display: table-cell;\"></div><div style=\"display: table-cell;\">tags&nbsp;=&nbsp;[],</div></div><div class=\"1873\" style=\"display: none;\"><div style=\"display: table-cell;\"></div><div style=\"display: table-cell;\">width&nbsp;=&nbsp;None)</div></div></div>\n",
       "<script>\n",
       "(function() {\n",
       "  var expanded = false;\n",
       "  var ellipsis = document.getElementById(\"1874\");\n",
       "  ellipsis.addEventListener(\"click\", function() {\n",
       "    var rows = document.getElementsByClassName(\"1873\");\n",
       "    for (var i = 0; i < rows.length; i++) {\n",
       "      var el = rows[i];\n",
       "      el.style.display = expanded ? \"none\" : \"table-row\";\n",
       "    }\n",
       "    ellipsis.innerHTML = expanded ? \"&hellip;)\" : \"&lsaquo;&lsaquo;&lsaquo;\";\n",
       "    expanded = !expanded;\n",
       "  });\n",
       "})();\n",
       "</script>\n"
      ],
      "text/plain": [
       "Column(id='1375', ...)"
      ]
     },
     "execution_count": 19,
     "metadata": {},
     "output_type": "execute_result"
    }
   ],
   "source": [
    "from dask.diagnostics import visualize\n",
    "visualize([prof, rprof, cprof])"
   ]
  },
  {
   "cell_type": "markdown",
   "metadata": {},
   "source": [
    "Looking at the above figure, from top to bottom:\n",
    "\n",
    "1. The results from the `Profiler` object: This shows the execution time for each task as a rectangle, organized along the y-axis by worker (in this case threads). Similar tasks are grouped by color and, by hovering over each task, one can see the key and task that each block represents.\n",
    "\n",
    "2. The results from the `ResourceProfiler` object: This shows two lines, one for total CPU percentage used by all the workers, and one for total memory usage.\n",
    "\n",
    "3. The results from the `CacheProfiler` object: This shows a line for each task group, plotting the sum of the current `metric` in the cache against time. In this case it’s the default metric (count) and the lines represent the number of each object in the cache at time. Note that the grouping and coloring is the same as for the `Profiler` plot, and that the task represented by each line can be found by hovering over the line.\n",
    "\n",
    "From these plots we can see that the initial tasks (calls to `numpy.random.random` and `numpy.linalg.qr` for each chunk) are run concurrently, but only use slightly more than 100% CPU. This is because the call to `numpy.linalg.qr` currently doesn’t release the Global Interpreter Lock (GIL), so those calls can’t truly be done in parallel. Next, there’s a reduction step where all the blocks are combined. This requires all the results from the first step to be held in memory, as shown by the increased number of results in the cache, and increase in memory usage. Immediately after this task ends, the number of elements in the cache decreases, showing that they were only needed for this step. Finally, there’s an interleaved set of calls to `dot` and `sum`. Looking at the CPU plot, it shows that these run both concurrently and in parallel, as the CPU percentage spikes up to around 350%."
   ]
  },
  {
   "cell_type": "markdown",
   "metadata": {},
   "source": [
    "### Diagnostics (distributed)\n",
    "\n",
    "The Dask distributed scheduler provides live feedback in two forms:\n",
    "\n",
    "1. An interactive dashboard containing many plots and tables with live information\n",
    "2. A progress bar suitable for interactive use in consoles or notebooks\n",
    "\n",
    "If Bokeh is installed then the dashboard will start up automatically whenever the scheduler is created. For local use this happens when you create a client with no arguments:"
   ]
  },
  {
   "cell_type": "code",
   "execution_count": 21,
   "metadata": {},
   "outputs": [],
   "source": [
    "from dask.distributed import Client\n",
    "client = Client()"
   ]
  },
  {
   "cell_type": "markdown",
   "metadata": {},
   "source": [
    "It is typically served at http://localhost:8787/status , but may be served elsewhere if this port is taken. The address of the dashboard will be displayed if you are in a Jupyter Notebook, or can be queried from `client.scheduler_info()['services']`.\n",
    "\n",
    "You can watch the youtube video below to get a full overview of what dashboard offers. There are a number of pages with information about task runtimes, communication, statistical profiling, load balancing, memory use, and much more. "
   ]
  },
  {
   "cell_type": "code",
   "execution_count": 33,
   "metadata": {},
   "outputs": [
    {
     "data": {
      "image/jpeg": "[encoded data removed]",
      "text/html": [
       "\n",
       "        <iframe\n",
       "            width=\"600\"\n",
       "            height=\"400\"\n",
       "            src=\"https://www.youtube.com/embed/N_GqzcuGLCY\"\n",
       "            frameborder=\"0\"\n",
       "            allowfullscreen\n",
       "        ></iframe>\n",
       "        "
      ],
      "text/plain": [
       "<IPython.lib.display.YouTubeVideo at 0x32fa84240>"
      ]
     },
     "execution_count": 33,
     "metadata": {},
     "output_type": "execute_result"
    }
   ],
   "source": [
    "from IPython.display import YouTubeVideo\n",
    "\n",
    "def display_yotube_video(url, **kwargs):\n",
    "    \"\"\"\n",
    "    Displays a Youtube video in a Jupyter notebook.\n",
    "    \n",
    "    Args:\n",
    "        url (string): a link to a Youtube video.\n",
    "        **kwargs: further arguments for IPython.display.YouTubeVideo\n",
    "    \n",
    "    Returns:\n",
    "        YouTubeVideo: a video that is displayed in your notebook.\n",
    "    \"\"\"\n",
    "    id_ = url.split(\"=\")[-1]\n",
    "    return YouTubeVideo(id_, **kwargs)\n",
    "\n",
    "display_yotube_video(\"https://www.youtube.com/watch?v=N_GqzcuGLCY\", width=600, height=400)\n"
   ]
  },
  {
   "cell_type": "markdown",
   "metadata": {},
   "source": [
    "You can capture some of the same information that the dashboard presents for offline processing using the `get_task_stream` and `Client.profile` functions. These capture the start and stop time of every task and transfer, as well as the results of a statistical profiler."
   ]
  },
  {
   "cell_type": "code",
   "execution_count": 34,
   "metadata": {},
   "outputs": [
    {
     "ename": "NameError",
     "evalue": "name 'get_task_stream' is not defined",
     "output_type": "error",
     "traceback": [
      "\u001b[0;31m---------------------------------------------------------------------------\u001b[0m",
      "\u001b[0;31mNameError\u001b[0m                                 Traceback (most recent call last)",
      "\u001b[0;32m<ipython-input-34-a175ee8a9ebd>\u001b[0m in \u001b[0;36m<module>\u001b[0;34m\u001b[0m\n\u001b[1;32m      1\u001b[0m \u001b[0;32mimport\u001b[0m \u001b[0mdask\u001b[0m\u001b[0;34m.\u001b[0m\u001b[0mdistributed\u001b[0m\u001b[0;34m\u001b[0m\u001b[0;34m\u001b[0m\u001b[0m\n\u001b[0;32m----> 2\u001b[0;31m \u001b[0;32mwith\u001b[0m \u001b[0mget_task_stream\u001b[0m\u001b[0;34m(\u001b[0m\u001b[0mplot\u001b[0m\u001b[0;34m=\u001b[0m\u001b[0;34m'save'\u001b[0m\u001b[0;34m,\u001b[0m \u001b[0mfilename\u001b[0m\u001b[0;34m=\u001b[0m\u001b[0;34m\"task-stream.html\"\u001b[0m\u001b[0;34m)\u001b[0m \u001b[0;32mas\u001b[0m \u001b[0mts\u001b[0m\u001b[0;34m:\u001b[0m\u001b[0;34m\u001b[0m\u001b[0;34m\u001b[0m\u001b[0m\n\u001b[0m\u001b[1;32m      3\u001b[0m     \u001b[0mx\u001b[0m\u001b[0;34m.\u001b[0m\u001b[0mcompute\u001b[0m\u001b[0;34m(\u001b[0m\u001b[0;34m)\u001b[0m\u001b[0;34m\u001b[0m\u001b[0;34m\u001b[0m\u001b[0m\n\u001b[1;32m      4\u001b[0m \u001b[0;34m\u001b[0m\u001b[0m\n\u001b[1;32m      5\u001b[0m \u001b[0mclient\u001b[0m\u001b[0;34m.\u001b[0m\u001b[0mprofile\u001b[0m\u001b[0;34m(\u001b[0m\u001b[0mfilename\u001b[0m\u001b[0;34m=\u001b[0m\u001b[0;34m\"dask-profile.html\"\u001b[0m\u001b[0;34m)\u001b[0m\u001b[0;34m\u001b[0m\u001b[0;34m\u001b[0m\u001b[0m\n",
      "\u001b[0;31mNameError\u001b[0m: name 'get_task_stream' is not defined"
     ]
    }
   ],
   "source": [
    "import dask.distributed\n",
    "with get_task_stream(plot='save', filename=\"task-stream.html\") as ts:\n",
    "    x.compute()\n",
    "\n",
    "client.profile(filename=\"dask-profile.html\")\n",
    "\n",
    "history = ts.data"
   ]
  },
  {
   "cell_type": "markdown",
   "metadata": {},
   "source": [
    "Get back a Bokeh figure and optionally save to a file"
   ]
  },
  {
   "cell_type": "code",
   "execution_count": null,
   "metadata": {},
   "outputs": [],
   "source": [
    "with get_task_stream(plot='save', filename='task-stream.html') as ts:\n",
    "    x.compute()\n",
    "    ts.figure"
   ]
  },
  {
   "cell_type": "markdown",
   "metadata": {},
   "source": [
    "Additionally, Dask can save many diagnostics dashboards at once including the task stream, worker profiles, bandwidths, etc. with the `performance_report` context manager:"
   ]
  },
  {
   "cell_type": "code",
   "execution_count": null,
   "metadata": {},
   "outputs": [],
   "source": [
    "from dask.distributed import performance_report\n",
    "\n",
    "with performance_report(filename=\"dask-report.html\"):\n",
    "    ## some dask computation"
   ]
  },
  {
   "cell_type": "markdown",
   "metadata": {},
   "source": [
    "### Progress bar\n",
    "\n",
    "The `dask.distributed` progress bar differs from the `ProgressBar` used for local diagnostics. The `progress` function takes a Dask object that is executing in the background:"
   ]
  },
  {
   "cell_type": "code",
   "execution_count": 20,
   "metadata": {},
   "outputs": [
    {
     "name": "stdout",
     "output_type": "stream",
     "text": [
      "[########################################] | 100% Completed |  0.1s\n"
     ]
    },
    {
     "name": "stderr",
     "output_type": "stream",
     "text": [
      "/anaconda3/lib/python3.7/site-packages/distributed/config.py:20: YAMLLoadWarning: calling yaml.load() without Loader=... is deprecated, as the default Loader is unsafe. Please read https://msg.pyyaml.org/load for full details.\n",
      "  defaults = yaml.load(f)\n",
      "/anaconda3/lib/python3.7/site-packages/distributed/utils.py:134: RuntimeWarning: Couldn't detect a suitable IP address for reaching '8.8.8.8', defaulting to '127.0.0.1': [Errno 51] Network is unreachable\n",
      "  % (host, default, e), RuntimeWarning)\n",
      "/anaconda3/lib/python3.7/site-packages/distributed/bokeh/core.py:57: UserWarning: \n",
      "Port 8787 is already in use. \n",
      "Perhaps you already have a cluster running?\n",
      "Hosting the diagnostics dashboard on a random port instead.\n",
      "  warnings.warn('\\n' + msg)\n"
     ]
    },
    {
     "data": {
      "text/plain": [
       "array([1., 1., 1., 1., 1., 1., 1., 1., 1., 1., 1., 1., 1., 1., 1., 1., 1.,\n",
       "       1., 1., 1.])"
      ]
     },
     "execution_count": 20,
     "metadata": {},
     "output_type": "execute_result"
    }
   ],
   "source": [
    "# Single machine progress bar\n",
    "from dask.diagnostics import ProgressBar\n",
    "\n",
    "with ProgressBar():\n",
    "    x.compute()\n",
    "\n",
    "# Distributed scheduler ProgressBar\n",
    "\n",
    "from dask.distributed import Client, progress\n",
    "\n",
    "client = Client()  # use dask.distributed by default\n",
    "\n",
    "x = x.persist()  # start computation in the background\n",
    "progress(x)      # watch progress\n",
    "\n",
    "x.compute()      # convert to final result when done if desired"
   ]
  },
  {
   "cell_type": "markdown",
   "metadata": {},
   "source": [
    "### The accessible port\n",
    "\n",
    "The default port for the web interface is 8787. However, some clusters restrict the ports that are visible to the outside world. These ports may include the default port for the web interface, 8787. There are a few ways to handle this:\n",
    "\n",
    "1. Open port `8787` to the outside world. Often this involves asking your cluster administrator.\n",
    "2. Use a different port that is publicly accessible using the --`dashboard-address :8787` option on the `dask-scheduler` command.\n",
    "3. Use fancier techniques, like Port Forwarding\n",
    "\n",
    "If you create distributed schedular from Pangeo environment on Gadi, a random port number (8000-8999) for the dashboard will be assigned to you. See more information on page about [setting up Pangeo environment on Gadi]()."
   ]
  },
  {
   "cell_type": "markdown",
   "metadata": {},
   "source": [
    "### Summary\n",
    "\n",
    "This example shows some dask diagnostic tools to examine the runtime and resource usages. "
   ]
  }
 ],
 "metadata": {
  "anaconda-cloud": {},
  "kernelspec": {
   "display_name": "Python 3",
   "language": "python",
   "name": "python3"
  },
  "language_info": {
   "codemirror_mode": {
    "name": "ipython",
    "version": 3
   },
   "file_extension": ".py",
   "mimetype": "text/x-python",
   "name": "python",
   "nbconvert_exporter": "python",
   "pygments_lexer": "ipython3",
   "version": "3.7.3"
  }
 },
 "nbformat": 4,
 "nbformat_minor": 4
}
