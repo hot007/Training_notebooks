{
 "cells": [
  {
   "cell_type": "code",
   "execution_count": 1,
   "metadata": {},
   "outputs": [],
   "source": [
    "from owslib.wcs import WebCoverageService\n",
    "from PIL import Image\n",
    "%matplotlib inline"
   ]
  },
  {
   "cell_type": "code",
   "execution_count": 38,
   "metadata": {},
   "outputs": [],
   "source": [
    "tds_url = 'http://dapds00.nci.org.au/thredds/wcs/u39/public/data/modis/lpdaac-tiles-c6/MOD13Q1.006/2019.08.13/MOD13Q1.A2019225.h27v11.006.2019248132537.hdf?service=WCS&version=1.0.0&request=GetCapabilities'"
   ]
  },
  {
   "cell_type": "code",
   "execution_count": 27,
   "metadata": {},
   "outputs": [],
   "source": [
    "tds_url = 'http://dapds00.nci.org.au/thredds/wcs/rs0/datacube/002/LS8_OLI_NBART/-10_-10/LS8_OLI_NBART_3577_-10_-10_20190914015334000000_v1569401632.nc?service=WCS&version=1.0.0&request=GetCapabilities'"
   ]
  },
  {
   "cell_type": "code",
   "execution_count": 40,
   "metadata": {},
   "outputs": [],
   "source": [
    "wcs = WebCoverageService(tds_url, version='1.0.0')"
   ]
  },
  {
   "cell_type": "code",
   "execution_count": 41,
   "metadata": {},
   "outputs": [
    {
     "name": "stdout",
     "output_type": "stream",
     "text": [
      "Layer Name: MODIS_Grid_16DAY_250m_500m_VI/Data_Fields/250m_16_days_NDVI\n",
      "Title: 250m 16 days NDVI \n",
      "\n",
      "Layer Name: MODIS_Grid_16DAY_250m_500m_VI/Data_Fields/250m_16_days_MIR_reflectance\n",
      "Title: 250m 16 days MIR reflectance \n",
      "\n",
      "Layer Name: MODIS_Grid_16DAY_250m_500m_VI/Data_Fields/250m_16_days_VI_Quality\n",
      "Title: 250m 16 days VI Quality \n",
      "\n",
      "Layer Name: MODIS_Grid_16DAY_250m_500m_VI/Data_Fields/250m_16_days_blue_reflectance\n",
      "Title: 250m 16 days blue reflectance \n",
      "\n",
      "Layer Name: MODIS_Grid_16DAY_250m_500m_VI/Data_Fields/250m_16_days_sun_zenith_angle\n",
      "Title: 250m 16 days sun zenith angle \n",
      "\n",
      "Layer Name: MODIS_Grid_16DAY_250m_500m_VI/Data_Fields/250m_16_days_EVI\n",
      "Title: 250m 16 days EVI \n",
      "\n",
      "Layer Name: MODIS_Grid_16DAY_250m_500m_VI/Data_Fields/250m_16_days_view_zenith_angle\n",
      "Title: 250m 16 days view zenith angle \n",
      "\n",
      "Layer Name: MODIS_Grid_16DAY_250m_500m_VI/Data_Fields/250m_16_days_NIR_reflectance\n",
      "Title: 250m 16 days NIR reflectance \n",
      "\n",
      "Layer Name: MODIS_Grid_16DAY_250m_500m_VI/Data_Fields/250m_16_days_composite_day_of_the_year\n",
      "Title: 250m 16 days composite day of the year \n",
      "\n",
      "Layer Name: MODIS_Grid_16DAY_250m_500m_VI/Data_Fields/250m_16_days_pixel_reliability\n",
      "Title: 250m 16 days pixel reliability \n",
      "\n",
      "Layer Name: MODIS_Grid_16DAY_250m_500m_VI/Data_Fields/250m_16_days_red_reflectance\n",
      "Title: 250m 16 days red reflectance \n",
      "\n",
      "Layer Name: MODIS_Grid_16DAY_250m_500m_VI/Data_Fields/250m_16_days_relative_azimuth_angle\n",
      "Title: 250m 16 days relative azimuth angle \n",
      "\n"
     ]
    }
   ],
   "source": [
    "for layer in list(wcs.contents):\n",
    "    print (\"Layer Name:\", layer)\n",
    "    print (\"Title:\", wcs[layer].title, '\\n')"
   ]
  },
  {
   "cell_type": "code",
   "execution_count": 42,
   "metadata": {},
   "outputs": [
    {
     "name": "stdout",
     "output_type": "stream",
     "text": [
      "MODIS_Grid_16DAY_250m_500m_VI/Data_Fields/250m_16_days_NDVI NDVI true 250m 16 days NDVI\n",
      "None\n"
     ]
    }
   ],
   "source": [
    "layer = \"MODIS_Grid_16DAY_250m_500m_VI/Data_Fields/250m_16_days_NDVI\"\n",
    "print(wcs[layer].abstract)\n",
    "print(wcs[layer].styles)"
   ]
  },
  {
   "cell_type": "code",
   "execution_count": 43,
   "metadata": {},
   "outputs": [
    {
     "name": "stdout",
     "output_type": "stream",
     "text": [
      "Bounding Box: \n",
      "\t (95.77425725633239, -29.99895833063934, 115.46763902159122, -19.998958331534364) \n",
      "\n",
      "Time Positions: \n",
      "\t [] \n",
      "\n"
     ]
    }
   ],
   "source": [
    "print (\"Bounding Box: \")\n",
    "bbox = wcs[layer].boundingBoxWGS84\n",
    "print ('\\t', bbox, '\\n')\n",
    "    \n",
    "print (\"Time Positions: \")\n",
    "time = wcs[layer].timepositions\n",
    "print ('\\t', time, '\\n')"
   ]
  },
  {
   "cell_type": "code",
   "execution_count": 37,
   "metadata": {},
   "outputs": [
    {
     "name": "stdout",
     "output_type": "stream",
     "text": [
      "['__class__', '__delattr__', '__dict__', '__dir__', '__doc__', '__eq__', '__format__', '__ge__', '__getattribute__', '__gt__', '__hash__', '__init__', '__init_subclass__', '__le__', '__lt__', '__module__', '__ne__', '__new__', '__reduce__', '__reduce_ex__', '__repr__', '__setattr__', '__sizeof__', '__str__', '__subclasshook__', '__weakref__', '_response', 'geturl', 'info', 'read']\n"
     ]
    }
   ],
   "source": [
    "output = wcs.getCoverage(identifier=layer, bbox=(123.5, -9, 124, -8.5), format='GeoTIFF')\n",
    "print(dir(output))\n",
    "\n",
    "filename = './test_wcs.tiff'\n",
    "with open(filename, 'wb') as f:\n",
    "    f.write(output.read())"
   ]
  },
  {
   "cell_type": "code",
   "execution_count": null,
   "metadata": {},
   "outputs": [],
   "source": []
  }
 ],
 "metadata": {
  "kernelspec": {
   "display_name": "Python 3",
   "language": "python",
   "name": "python3"
  },
  "language_info": {
   "codemirror_mode": {
    "name": "ipython",
    "version": 3
   },
   "file_extension": ".py",
   "mimetype": "text/x-python",
   "name": "python",
   "nbconvert_exporter": "python",
   "pygments_lexer": "ipython3",
   "version": "3.7.3"
  }
 },
 "nbformat": 4,
 "nbformat_minor": 2
}
