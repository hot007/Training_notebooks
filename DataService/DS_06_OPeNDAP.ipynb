{
 "cells": [
  {
   "cell_type": "markdown",
   "metadata": {},
   "source": [
    "# THREDDS Data Server: OPeNDAP\n",
    "\n",
    "We demonstrate how to use OPeNDAP through NCI's THREDDS data server.\n",
    "\n",
    "* OPeNDAP\n",
    "* Browse for data\n",
    "* Construct OPeNDAP query\n",
    "* Data access through OPeNDAP\n",
    "---\n",
    "\n",
    "- Authors: NCI Virtual Research Environment Team\n",
    "- Keywords: THREDDS, subset, OPeNDAP\n",
    "- Create Date: 2019-Jul\n",
    "\n",
    "---\n",
    "\n"
   ]
  },
  {
   "cell_type": "markdown",
   "metadata": {},
   "source": [
    "### OPeNDAP\n",
    "\n",
    "[OPeNDAP](https://docs.opendap.org/index.php/QuickStart) provides a way for researchers to access scientific data anywhere on the Internet, from a wide variety of new and existing programs. It is a protocol enabling the use of data from a remote server without the need to download the data files. This includes inspection of the embedded metadata as well as specific ranges, slices and subsamples of the data. While much of this is directly accessible with a web browser, most powerful use of OPeNDAP is through the interfaces that are available for Python, Java, Matlab etc. OPeNDAP is especially suited (but not strictly limited) to netCDF data.\n",
    "\n",
    "For more information about OPeNDAP, see NASA's website: https://earthdata.nasa.gov/collaborate/open-data-services-and-software/api/opendap/opendap-user-guide"
   ]
  },
  {
   "cell_type": "markdown",
   "metadata": {},
   "source": [
    "### Browse for data\n",
    "\n",
    "Begin by going to NCI's Geonetwork page: https://geonetwork.nci.org.au/\n",
    "\n",
    "This page contains the metadata records for NCI Data Collections as well as information on where to find the data. \n",
    "\n",
    "![gn1](images/gn1_cmip5.png)\n",
    "\n",
    "In this example, we will search for CMIP data, the records whose title includes CMIP will pop up immediately:\n",
    "\n",
    "![gn2](images/gn2_cmip5.png)\n",
    "\n",
    "If we click on one of the CMIP dataset, we see a brief overview of the metadata record. **Note:** For the full record, navigate to the upper-right corner of your browser to change to the \"Full view\" (eyeball icon). \n",
    "\n",
    "Now lets click on the NCI THREDDS data server link under **Download and links**:\n",
    "\n",
    "![gn3](images/gn3_cmip5.png)\n",
    "\n",
    "By navigating to this link, the available (public) data subcollections and datasets will be visible:\n",
    "\n",
    "![dd1](images/tds_dd1_cmip5.png)\n",
    "\n",
    "\n",
    "In this example, let's navigate to the **Monthly sea_surface_temperature in 1pctCO2** dataset and click on the file:\n",
    "\n",
    "![dd2](images/tds_dd2_cmip5.png)\n"
   ]
  },
  {
   "cell_type": "markdown",
   "metadata": {
    "collapsed": true
   },
   "source": [
    "### OPeNDAP\n",
    "\n",
    "\n",
    "#### First, select the file. On the THREDDS catalog page for the file, click the link titled:  `OPeNDAP`\n",
    "\n",
    "\n",
    "![1](images/opendap1_cmip5.png)\n",
    "\n",
    "\n",
    "\n",
    "#### This will direct to the `OPeNDAP Dataset Access Form`\n",
    "\n",
    "This page will list information on the file contents, including file metadata and variables. Each variable will also contain a list of variable-level metadata (or attributes).  \n",
    "\n",
    "![2](images/opendap2_cmip5.png)\n",
    "\n",
    "\n",
    "#### Request subset in ASCII format:\n",
    "\n",
    "1. To request a subset with the OPeNDAP Dataset Access Form, begin by selecting the desired subset. \n",
    "\n",
    "2. To select a variable: \n",
    "\n",
    "   - Tick the box to the left of the variable name \n",
    "   \n",
    "   - Provide subset range for each dimension of the variable\n",
    "\n",
    "![3](images/opendap3_cmip5.png)\n",
    "\n",
    "\n",
    "3. Navigate to the top of the page and select \"Get ASCII\"\n",
    "\n",
    "![4](images/opendap4_cmip5.png)\n",
    "\n",
    "\n",
    "4. This should return the subset in a new window that can be copied/pasted or saved as a new file. \n",
    "\n",
    "![5](images/opendap5_cmip5.png)"
   ]
  },
  {
   "cell_type": "markdown",
   "metadata": {
    "collapsed": true
   },
   "source": [
    "### Use OPeNDAP for remote data access with Python\n",
    "\n",
    "1. Return to the OPeNDAP Dataset Access Form page\n",
    "\n",
    "2. Copy the URL in the field titled \"Data URL\"\n",
    "\n",
    "![6](images/opendap6_cmip5.png)\n",
    "\n",
    "3. This URL can be used in the same manner as the path to a local file within many tools and services. Examples of this will be covered in later sections.\n",
    "\n"
   ]
  },
  {
   "cell_type": "markdown",
   "metadata": {},
   "source": [
    "### Data access through OPeNDAP\n",
    "\n",
    "#### 1. Ncview"
   ]
  },
  {
   "cell_type": "code",
   "execution_count": null,
   "metadata": {},
   "outputs": [],
   "source": [
    "!ncview http://dapds00.nci.org.au/thredds/dodsC/fs38/publications/CMIP6/CMIP/CSIRO/ACCESS-ESM1-5/historical/r1i1p1f1/3hr/pr/gn/latest/pr_3hr_ACCESS-ESM1-5_historical_r1i1p1f1_gn_201001010130-201412312230.nc"
   ]
  },
  {
   "cell_type": "markdown",
   "metadata": {},
   "source": [
    "2. GDAL"
   ]
  },
  {
   "cell_type": "code",
   "execution_count": null,
   "metadata": {},
   "outputs": [],
   "source": [
    "import gdal\n",
    "url = 'http://dapds00.nci.org.au/thredds/dodsC/fs38/publications/CMIP6/CMIP/CSIRO/ACCESS-ESM1-5/historical/r1i1p1f1/3hr/pr/gn/latest/pr_3hr_ACCESS-ESM1-5_historical_r1i1p1f1_gn_201001010130-201412312230.nc'\n",
    "ds=gdal.Open(url)\n",
    "ds"
   ]
  },
  {
   "cell_type": "markdown",
   "metadata": {},
   "source": [
    "3. Xarray"
   ]
  },
  {
   "cell_type": "code",
   "execution_count": 2,
   "metadata": {},
   "outputs": [
    {
     "name": "stderr",
     "output_type": "stream",
     "text": [
      "/anaconda3/lib/python3.7/site-packages/dask/config.py:168: YAMLLoadWarning: calling yaml.load() without Loader=... is deprecated, as the default Loader is unsafe. Please read https://msg.pyyaml.org/load for full details.\n",
      "  data = yaml.load(f.read()) or {}\n",
      "/anaconda3/lib/python3.7/site-packages/distributed/config.py:20: YAMLLoadWarning: calling yaml.load() without Loader=... is deprecated, as the default Loader is unsafe. Please read https://msg.pyyaml.org/load for full details.\n",
      "  defaults = yaml.load(f)\n"
     ]
    },
    {
     "data": {
      "text/html": [
       "<pre>&lt;xarray.Dataset&gt;\n",
       "Dimensions:    (bnds: 2, lat: 145, lon: 192, time: 14608)\n",
       "Coordinates:\n",
       "  * time       (time) datetime64[ns] 2010-01-01T01:30:00 ... 2014-12-31T22:30:00\n",
       "  * lat        (lat) float64 -90.0 -88.75 -87.5 -86.25 ... 86.25 87.5 88.75 90.0\n",
       "  * lon        (lon) float64 0.0 1.875 3.75 5.625 ... 352.5 354.4 356.2 358.1\n",
       "Dimensions without coordinates: bnds\n",
       "Data variables:\n",
       "    time_bnds  (time, bnds) datetime64[ns] ...\n",
       "    lat_bnds   (lat, bnds) float64 ...\n",
       "    lon_bnds   (lon, bnds) float64 ...\n",
       "    pr         (time, lat, lon) float32 ...\n",
       "Attributes:\n",
       "    Conventions:                     CF-1.7 CMIP-6.2\n",
       "    activity_id:                     CMIP\n",
       "    branch_method:                   standard\n",
       "    branch_time_in_child:            0.0\n",
       "    branch_time_in_parent:           21915.0\n",
       "    creation_date:                   2019-11-15T03:30:05Z\n",
       "    data_specs_version:              01.00.30\n",
       "    experiment:                      all-forcing simulation of the recent past\n",
       "    experiment_id:                   historical\n",
       "    external_variables:              areacella\n",
       "    forcing_index:                   1\n",
       "    frequency:                       3hr\n",
       "    further_info_url:                https://furtherinfo.es-doc.org/CMIP6.CSI...\n",
       "    grid:                            native atmosphere N96 grid (145x192 latx...\n",
       "    grid_label:                      gn\n",
       "    history:                         2019-11-15T03:30:05Z ; CMOR rewrote data...\n",
       "    initialization_index:            1\n",
       "    institution:                     Commonwealth Scientific and Industrial R...\n",
       "    institution_id:                  CSIRO\n",
       "    mip_era:                         CMIP6\n",
       "    nominal_resolution:              250 km\n",
       "    notes:                           Exp: ESM-historical; Local ID: HI-05; Va...\n",
       "    parent_activity_id:              CMIP\n",
       "    parent_experiment_id:            piControl\n",
       "    parent_mip_era:                  CMIP6\n",
       "    parent_source_id:                ACCESS-ESM1-5\n",
       "    parent_time_units:               days since 0101-1-1\n",
       "    parent_variant_label:            r1i1p1f1\n",
       "    physics_index:                   1\n",
       "    product:                         model-output\n",
       "    realization_index:               1\n",
       "    realm:                           atmos\n",
       "    run_variant:                     forcing: GHG, Oz, SA, Sl, Vl, BC, OC, (G...\n",
       "    source:                          ACCESS-ESM1.5 (2019): \\naerosol: CLASSIC...\n",
       "    source_id:                       ACCESS-ESM1-5\n",
       "    source_type:                     AOGCM\n",
       "    sub_experiment:                  none\n",
       "    sub_experiment_id:               none\n",
       "    table_id:                        3hr\n",
       "    table_info:                      Creation Date:(30 April 2019) MD5:e14f55...\n",
       "    title:                           ACCESS-ESM1-5 output prepared for CMIP6\n",
       "    variable_id:                     pr\n",
       "    variant_label:                   r1i1p1f1\n",
       "    version:                         v20191115\n",
       "    cmor_version:                    3.4.0\n",
       "    tracking_id:                     hdl:21.14100/3110838a-26ba-4e7b-914b-ef0...\n",
       "    license:                         CMIP6 model data produced by CSIRO is li...\n",
       "    DODS_EXTRA.Unlimited_Dimension:  time</pre>"
      ],
      "text/plain": [
       "<xarray.Dataset>\n",
       "Dimensions:    (bnds: 2, lat: 145, lon: 192, time: 14608)\n",
       "Coordinates:\n",
       "  * time       (time) datetime64[ns] 2010-01-01T01:30:00 ... 2014-12-31T22:30:00\n",
       "  * lat        (lat) float64 -90.0 -88.75 -87.5 -86.25 ... 86.25 87.5 88.75 90.0\n",
       "  * lon        (lon) float64 0.0 1.875 3.75 5.625 ... 352.5 354.4 356.2 358.1\n",
       "Dimensions without coordinates: bnds\n",
       "Data variables:\n",
       "    time_bnds  (time, bnds) datetime64[ns] ...\n",
       "    lat_bnds   (lat, bnds) float64 ...\n",
       "    lon_bnds   (lon, bnds) float64 ...\n",
       "    pr         (time, lat, lon) float32 ...\n",
       "Attributes:\n",
       "    Conventions:                     CF-1.7 CMIP-6.2\n",
       "    activity_id:                     CMIP\n",
       "    branch_method:                   standard\n",
       "    branch_time_in_child:            0.0\n",
       "    branch_time_in_parent:           21915.0\n",
       "    creation_date:                   2019-11-15T03:30:05Z\n",
       "    data_specs_version:              01.00.30\n",
       "    experiment:                      all-forcing simulation of the recent past\n",
       "    experiment_id:                   historical\n",
       "    external_variables:              areacella\n",
       "    forcing_index:                   1\n",
       "    frequency:                       3hr\n",
       "    further_info_url:                https://furtherinfo.es-doc.org/CMIP6.CSI...\n",
       "    grid:                            native atmosphere N96 grid (145x192 latx...\n",
       "    grid_label:                      gn\n",
       "    history:                         2019-11-15T03:30:05Z ; CMOR rewrote data...\n",
       "    initialization_index:            1\n",
       "    institution:                     Commonwealth Scientific and Industrial R...\n",
       "    institution_id:                  CSIRO\n",
       "    mip_era:                         CMIP6\n",
       "    nominal_resolution:              250 km\n",
       "    notes:                           Exp: ESM-historical; Local ID: HI-05; Va...\n",
       "    parent_activity_id:              CMIP\n",
       "    parent_experiment_id:            piControl\n",
       "    parent_mip_era:                  CMIP6\n",
       "    parent_source_id:                ACCESS-ESM1-5\n",
       "    parent_time_units:               days since 0101-1-1\n",
       "    parent_variant_label:            r1i1p1f1\n",
       "    physics_index:                   1\n",
       "    product:                         model-output\n",
       "    realization_index:               1\n",
       "    realm:                           atmos\n",
       "    run_variant:                     forcing: GHG, Oz, SA, Sl, Vl, BC, OC, (G...\n",
       "    source:                          ACCESS-ESM1.5 (2019): \\naerosol: CLASSIC...\n",
       "    source_id:                       ACCESS-ESM1-5\n",
       "    source_type:                     AOGCM\n",
       "    sub_experiment:                  none\n",
       "    sub_experiment_id:               none\n",
       "    table_id:                        3hr\n",
       "    table_info:                      Creation Date:(30 April 2019) MD5:e14f55...\n",
       "    title:                           ACCESS-ESM1-5 output prepared for CMIP6\n",
       "    variable_id:                     pr\n",
       "    variant_label:                   r1i1p1f1\n",
       "    version:                         v20191115\n",
       "    cmor_version:                    3.4.0\n",
       "    tracking_id:                     hdl:21.14100/3110838a-26ba-4e7b-914b-ef0...\n",
       "    license:                         CMIP6 model data produced by CSIRO is li...\n",
       "    DODS_EXTRA.Unlimited_Dimension:  time"
      ]
     },
     "execution_count": 2,
     "metadata": {},
     "output_type": "execute_result"
    }
   ],
   "source": [
    "import xarray\n",
    "ds=xarray.open_dataset('http://dapds00.nci.org.au/thredds/dodsC/fs38/publications/CMIP6/CMIP/CSIRO/ACCESS-ESM1-5/historical/r1i1p1f1/3hr/pr/gn/latest/pr_3hr_ACCESS-ESM1-5_historical_r1i1p1f1_gn_201001010130-201412312230.nc')\n",
    "ds"
   ]
  },
  {
   "cell_type": "code",
   "execution_count": null,
   "metadata": {},
   "outputs": [],
   "source": []
  }
 ],
 "metadata": {
  "anaconda-cloud": {},
  "kernelspec": {
   "display_name": "Python 3",
   "language": "python",
   "name": "python3"
  },
  "language_info": {
   "codemirror_mode": {
    "name": "ipython",
    "version": 3
   },
   "file_extension": ".py",
   "mimetype": "text/x-python",
   "name": "python",
   "nbconvert_exporter": "python",
   "pygments_lexer": "ipython3",
   "version": "3.7.3"
  }
 },
 "nbformat": 4,
 "nbformat_minor": 1
}
