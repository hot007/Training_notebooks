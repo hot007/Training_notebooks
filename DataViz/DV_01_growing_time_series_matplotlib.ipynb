{
 "cells": [
  {
   "cell_type": "markdown",
   "metadata": {},
   "source": [
    "# Create a growing time series using Matplotlib\n",
    "\n",
    "* read in data\n",
    "* sort out x and y\n",
    "* define animation function for each point\n",
    "* call animator\n",
    "* save as a GIF image"
   ]
  },
  {
   "cell_type": "code",
   "execution_count": 1,
   "metadata": {},
   "outputs": [
    {
     "name": "stderr",
     "output_type": "stream",
     "text": [
      "/anaconda3/lib/python3.7/site-packages/dask/config.py:168: YAMLLoadWarning: calling yaml.load() without Loader=... is deprecated, as the default Loader is unsafe. Please read https://msg.pyyaml.org/load for full details.\n",
      "  data = yaml.load(f.read()) or {}\n",
      "/anaconda3/lib/python3.7/site-packages/distributed/config.py:20: YAMLLoadWarning: calling yaml.load() without Loader=... is deprecated, as the default Loader is unsafe. Please read https://msg.pyyaml.org/load for full details.\n",
      "  defaults = yaml.load(f)\n"
     ]
    }
   ],
   "source": [
    "import xarray as xr\n",
    "url = 'http://dapds00.nci.org.au/thredds/dodsC/rr3/CMIP5/output1/CSIRO-BOM/ACCESS1-3/historical/mon/atmos/\\\n",
    "Amon/r1i1p1/v20130325/tasmax/tasmax_Amon_ACCESS1-3_historical_r1i1p1_185001-200512.nc'\n",
    "f = xr.open_dataset(url)"
   ]
  },
  {
   "cell_type": "code",
   "execution_count": 2,
   "metadata": {},
   "outputs": [
    {
     "data": {
      "text/html": [
       "<pre>&lt;xarray.DataArray &#x27;tasmax&#x27; (time: 1872)&gt;\n",
       "array([301.31274, 300.5162 , 299.14127, ..., 297.92596, 298.66644, 300.4304 ],\n",
       "      dtype=float32)\n",
       "Coordinates:\n",
       "  * time     (time) datetime64[ns] 1850-01-16T12:00:00 ... 2005-12-16T12:00:00\n",
       "    lat      float64 -35.0\n",
       "    lon      float64 150.0\n",
       "    height   float64 ...\n",
       "Attributes:\n",
       "    standard_name:     air_temperature\n",
       "    long_name:         Daily Maximum Near-Surface Air Temperature\n",
       "    comment:           monthly mean of the daily-maximum near-surface air tem...\n",
       "    units:             K\n",
       "    cell_methods:      time: maximum within days time: mean over days\n",
       "    cell_measures:     area: areacella\n",
       "    history:           2013-03-25T05:03:31Z altered by CMOR: Treated scalar d...\n",
       "    associated_files:  baseURL: http://cmip-pcmdi.llnl.gov/CMIP5/dataLocation...</pre>"
      ],
      "text/plain": [
       "<xarray.DataArray 'tasmax' (time: 1872)>\n",
       "array([301.31274, 300.5162 , 299.14127, ..., 297.92596, 298.66644, 300.4304 ],\n",
       "      dtype=float32)\n",
       "Coordinates:\n",
       "  * time     (time) datetime64[ns] 1850-01-16T12:00:00 ... 2005-12-16T12:00:00\n",
       "    lat      float64 -35.0\n",
       "    lon      float64 150.0\n",
       "    height   float64 ...\n",
       "Attributes:\n",
       "    standard_name:     air_temperature\n",
       "    long_name:         Daily Maximum Near-Surface Air Temperature\n",
       "    comment:           monthly mean of the daily-maximum near-surface air tem...\n",
       "    units:             K\n",
       "    cell_methods:      time: maximum within days time: mean over days\n",
       "    cell_measures:     area: areacella\n",
       "    history:           2013-03-25T05:03:31Z altered by CMOR: Treated scalar d...\n",
       "    associated_files:  baseURL: http://cmip-pcmdi.llnl.gov/CMIP5/dataLocation..."
      ]
     },
     "execution_count": 2,
     "metadata": {},
     "output_type": "execute_result"
    }
   ],
   "source": [
    "# Canberra \n",
    "timeseries = f.tasmax.sel(lon=149.13,lat=-35.28,method='nearest')\n",
    "timeseries"
   ]
  },
  {
   "cell_type": "code",
   "execution_count": 3,
   "metadata": {},
   "outputs": [],
   "source": [
    "x = range(1, len(timeseries.time)+1)\n",
    "y = timeseries.values"
   ]
  },
  {
   "cell_type": "code",
   "execution_count": 11,
   "metadata": {},
   "outputs": [
    {
     "name": "stderr",
     "output_type": "stream",
     "text": [
      "MovieWriter imagemagick unavailable. Trying to use pillow instead.\n"
     ]
    },
    {
     "data": {
      "image/png": "[encoded data removed]",
      "text/plain": [
       "<Figure size 432x288 with 1 Axes>"
      ]
     },
     "metadata": {},
     "output_type": "display_data"
    }
   ],
   "source": [
    "import matplotlib.pyplot as plt \n",
    "import matplotlib.animation as animation \n",
    "import numpy as np \n",
    "plt.style.use('dark_background')\n",
    "\n",
    "\n",
    "fig = plt.figure() \n",
    "ax = plt.axes(xlim=(1, len(x)), ylim=(280, 310)) \n",
    "line, = ax.plot([], [], lw=2) \n",
    "\n",
    "# initialization function \n",
    "def init(): \n",
    "    # creating an empty plot/frame \n",
    "    line.set_data([], []) \n",
    "    return line, \n",
    "\n",
    "# lists to store x and y axis points \n",
    "xdata, ydata = [], [] \n",
    "\n",
    "# animation function \n",
    "def animate(i): \n",
    "\n",
    "    # x, y values to be plotted \n",
    "    x1 = x[i] \n",
    "    y1 = y[i] \n",
    "\n",
    "   # appending new points to x, y axes points list \n",
    "    xdata.append(x1) \n",
    "    ydata.append(y1) \n",
    "    line.set_data(xdata, ydata) \n",
    "    return line, \n",
    "\n",
    "# setting a title for the plot \n",
    "plt.title('Near-Surface Air Temperature [1850-2005] from CMIP5') \n",
    "# hiding the axis details \n",
    "plt.axis('on') \n",
    "plt.ylabel('Temperature (K)')\n",
    "plt.xlabel('year')\n",
    "plt.xticks([0,240,480,720,960,1200,1440,1680,1872], \n",
    "           ['1850', '1870', '1890','1910','1930','1950','1970','1990','2005'])\n",
    "\n",
    "# call the animator\t \n",
    "anim = animation.FuncAnimation(fig, animate, init_func=init, \n",
    "\t\t\t\t\t\t\tframes=len(x), interval=20, blit=True) \n",
    "\n",
    "# save the animation as mp4 video file \n",
    "anim.save('timeseries.gif',writer='imagemagick') "
   ]
  }
 ],
 "metadata": {
  "kernelspec": {
   "display_name": "Python 3",
   "language": "python",
   "name": "python3"
  },
  "language_info": {
   "codemirror_mode": {
    "name": "ipython",
    "version": 3
   },
   "file_extension": ".py",
   "mimetype": "text/x-python",
   "name": "python",
   "nbconvert_exporter": "python",
   "pygments_lexer": "ipython3",
   "version": "3.7.3"
  }
 },
 "nbformat": 4,
 "nbformat_minor": 2
}
