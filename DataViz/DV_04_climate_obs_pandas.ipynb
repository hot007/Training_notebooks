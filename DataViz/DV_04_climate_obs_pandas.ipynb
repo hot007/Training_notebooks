{
 "cells": [
  {
   "cell_type": "markdown",
   "metadata": {},
   "source": [
    "# Climate observation data visualisation using Pandas\n",
    "\n",
    "* Read in station information\n",
    "* Visualise station distribution\n",
    "* Read in the time series data at one station\n",
    "* Visualise time series data\n",
    "---\n",
    "\n",
    "- Authors: NCI Virtual Research Environment Team\n",
    "- Keywords: Climate observation, Pandas, data visualisation\n",
    "- Create Date: 2020-Jul\n",
    "    \n",
    "---"
   ]
  },
  {
   "cell_type": "code",
   "execution_count": 1,
   "metadata": {},
   "outputs": [],
   "source": [
    "import pandas as pd\n",
    "import numpy as np\n",
    "from matplotlib import pyplot as plt\n",
    "%matplotlib inline"
   ]
  },
  {
   "cell_type": "markdown",
   "metadata": {},
   "source": [
    "Australian Climate Observation Reference Network (ACORN) yj45\n",
    "\n",
    "The Australian Climate Observations Reference Network (ACORN) has been developed to monitor climate variability and change in Australia.\n",
    "\n",
    "The  ACORN – Surface Air Temperature (ACORN-SAT) network is specific to temperature. \n",
    "\n",
    "The dataset employs the peer-reviewed and published data analysis techniques and takes advantage of more than 100 years of digitised observational data to provide a daily record of Australian temperatures since 1910.\n",
    "\n",
    "The data is comparable through time, making adjustments for historic changes in observing practices and observing locations, which enable climates researchers to better understand long-term changes in monthly and seasonal climate, as well as changes in day-to-day weather, such as the frequency of heat and cold extremes.\n",
    "\n",
    "POC: Rob Smalley (robert.smalley@bom.gov.au)"
   ]
  },
  {
   "cell_type": "code",
   "execution_count": null,
   "metadata": {},
   "outputs": [],
   "source": [
    "text_file = \"/g/data/yj45/acorn/sat/version_2/site_data/acorn_sat_v2_stations.txt\"\n",
    "\n",
    "# read in lat, lon and elevation\n",
    "from numpy import loadtxt\n",
    "stnnum = loadtxt(text_file, skiprows=1, delimiter=\" \", usecols=(0), unpack=True)\n",
    "lat = loadtxt(text_file, skiprows=1, delimiter=\" \", usecols=(1), unpack=True)\n",
    "lon = loadtxt(text_file, skiprows=1, delimiter=\" \", usecols=(2), unpack=True)\n",
    "elev = loadtxt(text_file, skiprows=1, delimiter=\" \", usecols=(3), unpack=True)\n",
    "\n",
    "# read in strings: station number and location\n",
    "#f = open(text_file , 'rb')\n",
    "#with contextlib.closing(f):\n",
    "#    words = (line.split(' ') for line in f)\n",
    "#    print(words)"
   ]
  },
  {
   "cell_type": "markdown",
   "metadata": {},
   "source": [
    "Create a panda dataframe using station location information:"
   ]
  },
  {
   "cell_type": "code",
   "execution_count": 7,
   "metadata": {},
   "outputs": [
    {
     "data": {
      "text/html": [
       "<div>\n",
       "<style scoped>\n",
       "    .dataframe tbody tr th:only-of-type {\n",
       "        vertical-align: middle;\n",
       "    }\n",
       "\n",
       "    .dataframe tbody tr th {\n",
       "        vertical-align: top;\n",
       "    }\n",
       "\n",
       "    .dataframe thead th {\n",
       "        text-align: right;\n",
       "    }\n",
       "</style>\n",
       "<table border=\"1\" class=\"dataframe\">\n",
       "  <thead>\n",
       "    <tr style=\"text-align: right;\">\n",
       "      <th></th>\n",
       "      <th>lat</th>\n",
       "      <th>lon</th>\n",
       "      <th>elevation</th>\n",
       "    </tr>\n",
       "  </thead>\n",
       "  <tbody>\n",
       "    <tr>\n",
       "      <th>0</th>\n",
       "      <td>-14.30</td>\n",
       "      <td>126.65</td>\n",
       "      <td>23.0</td>\n",
       "    </tr>\n",
       "    <tr>\n",
       "      <th>1</th>\n",
       "      <td>-18.23</td>\n",
       "      <td>127.66</td>\n",
       "      <td>422.0</td>\n",
       "    </tr>\n",
       "    <tr>\n",
       "      <th>2</th>\n",
       "      <td>-17.95</td>\n",
       "      <td>122.24</td>\n",
       "      <td>7.4</td>\n",
       "    </tr>\n",
       "    <tr>\n",
       "      <th>3</th>\n",
       "      <td>-20.37</td>\n",
       "      <td>118.63</td>\n",
       "      <td>6.4</td>\n",
       "    </tr>\n",
       "    <tr>\n",
       "      <th>4</th>\n",
       "      <td>-21.18</td>\n",
       "      <td>119.75</td>\n",
       "      <td>182.3</td>\n",
       "    </tr>\n",
       "    <tr>\n",
       "      <th>...</th>\n",
       "      <td>...</td>\n",
       "      <td>...</td>\n",
       "      <td>...</td>\n",
       "    </tr>\n",
       "    <tr>\n",
       "      <th>107</th>\n",
       "      <td>-40.99</td>\n",
       "      <td>148.35</td>\n",
       "      <td>19.7</td>\n",
       "    </tr>\n",
       "    <tr>\n",
       "      <th>108</th>\n",
       "      <td>-43.49</td>\n",
       "      <td>147.15</td>\n",
       "      <td>55.0</td>\n",
       "    </tr>\n",
       "    <tr>\n",
       "      <th>109</th>\n",
       "      <td>-42.89</td>\n",
       "      <td>147.33</td>\n",
       "      <td>50.5</td>\n",
       "    </tr>\n",
       "    <tr>\n",
       "      <th>110</th>\n",
       "      <td>-42.99</td>\n",
       "      <td>147.07</td>\n",
       "      <td>65.0</td>\n",
       "    </tr>\n",
       "    <tr>\n",
       "      <th>111</th>\n",
       "      <td>-42.28</td>\n",
       "      <td>146.28</td>\n",
       "      <td>667.0</td>\n",
       "    </tr>\n",
       "  </tbody>\n",
       "</table>\n",
       "<p>112 rows × 3 columns</p>\n",
       "</div>"
      ],
      "text/plain": [
       "       lat     lon  elevation\n",
       "0   -14.30  126.65       23.0\n",
       "1   -18.23  127.66      422.0\n",
       "2   -17.95  122.24        7.4\n",
       "3   -20.37  118.63        6.4\n",
       "4   -21.18  119.75      182.3\n",
       "..     ...     ...        ...\n",
       "107 -40.99  148.35       19.7\n",
       "108 -43.49  147.15       55.0\n",
       "109 -42.89  147.33       50.5\n",
       "110 -42.99  147.07       65.0\n",
       "111 -42.28  146.28      667.0\n",
       "\n",
       "[112 rows x 3 columns]"
      ]
     },
     "execution_count": 7,
     "metadata": {},
     "output_type": "execute_result"
    }
   ],
   "source": [
    "st = pd.DataFrame({\n",
    "    'lat':lat,\n",
    "    'lon':lon,\n",
    "    'elevation':elev\n",
    "})\n",
    "st"
   ]
  },
  {
   "cell_type": "markdown",
   "metadata": {},
   "source": [
    "Plot lat/lon as scatter plot"
   ]
  },
  {
   "cell_type": "code",
   "execution_count": 8,
   "metadata": {},
   "outputs": [
    {
     "data": {
      "image/png": "[encoded data removed]",
      "text/plain": [
       "<Figure size 432x288 with 1 Axes>"
      ]
     },
     "metadata": {
      "needs_background": "light"
     },
     "output_type": "display_data"
    }
   ],
   "source": [
    "import matplotlib.pyplot as plt\n",
    "st.plot(kind='scatter',x='lon',y='lat',color='red')\n",
    "plt.show()"
   ]
  },
  {
   "cell_type": "markdown",
   "metadata": {},
   "source": [
    "Plot elevation as bar plot"
   ]
  },
  {
   "cell_type": "code",
   "execution_count": 9,
   "metadata": {},
   "outputs": [
    {
     "data": {
      "text/plain": [
       "<matplotlib.axes._subplots.AxesSubplot at 0x14d9df4c9b50>"
      ]
     },
     "execution_count": 9,
     "metadata": {},
     "output_type": "execute_result"
    },
    {
     "data": {
      "image/png": "[encoded data removed]",
      "text/plain": [
       "<Figure size 432x288 with 1 Axes>"
      ]
     },
     "metadata": {
      "needs_background": "light"
     },
     "output_type": "display_data"
    }
   ],
   "source": [
    "st.plot(kind='bar',y='elevation',figsize=(11, 2.25))"
   ]
  },
  {
   "cell_type": "code",
   "execution_count": null,
   "metadata": {},
   "outputs": [],
   "source": [
    "#dat = pd.read_csv('http://dapds00.nci.org.au/thredds/fileServer/yj45/acorn/sat/version_2/site_data/tmin.096003.daily.csv')"
   ]
  },
  {
   "cell_type": "markdown",
   "metadata": {},
   "source": [
    "Read in one station data and plot the time series using `pandas.plot()`"
   ]
  },
  {
   "cell_type": "code",
   "execution_count": 27,
   "metadata": {},
   "outputs": [],
   "source": [
    "dat = pd.read_csv('/g/data/yj45/acorn/sat/version_2/site_data/tmax.001019.daily.csv',\n",
    "                 names=['dates','max temp (C)','site number','site name'],\n",
    "                 skiprows=2)"
   ]
  },
  {
   "cell_type": "code",
   "execution_count": 34,
   "metadata": {},
   "outputs": [
    {
     "data": {
      "text/plain": [
       "<matplotlib.axes._subplots.AxesSubplot at 0x14d9ddfed490>"
      ]
     },
     "execution_count": 34,
     "metadata": {},
     "output_type": "execute_result"
    },
    {
     "data": {
      "image/png": "[encoded data removed]",
      "text/plain": [
       "<Figure size 432x288 with 1 Axes>"
      ]
     },
     "metadata": {
      "needs_background": "light"
     },
     "output_type": "display_data"
    }
   ],
   "source": [
    "dat.plot(kind='line',x='dates',y='max temp (C)')"
   ]
  },
  {
   "cell_type": "markdown",
   "metadata": {},
   "source": [
    "Read data of two stations."
   ]
  },
  {
   "cell_type": "code",
   "execution_count": 113,
   "metadata": {},
   "outputs": [
    {
     "data": {
      "text/html": [
       "<div>\n",
       "<style scoped>\n",
       "    .dataframe tbody tr th:only-of-type {\n",
       "        vertical-align: middle;\n",
       "    }\n",
       "\n",
       "    .dataframe tbody tr th {\n",
       "        vertical-align: top;\n",
       "    }\n",
       "\n",
       "    .dataframe thead th {\n",
       "        text-align: right;\n",
       "    }\n",
       "</style>\n",
       "<table border=\"1\" class=\"dataframe\">\n",
       "  <thead>\n",
       "    <tr style=\"text-align: right;\">\n",
       "      <th></th>\n",
       "      <th>dates</th>\n",
       "      <th>max temp (C)</th>\n",
       "      <th>site number</th>\n",
       "      <th>site name</th>\n",
       "    </tr>\n",
       "  </thead>\n",
       "  <tbody>\n",
       "    <tr>\n",
       "      <th>0</th>\n",
       "      <td>1941-09-01</td>\n",
       "      <td>29.8</td>\n",
       "      <td>NaN</td>\n",
       "      <td>NaN</td>\n",
       "    </tr>\n",
       "    <tr>\n",
       "      <th>1</th>\n",
       "      <td>1941-09-02</td>\n",
       "      <td>29.8</td>\n",
       "      <td>NaN</td>\n",
       "      <td>NaN</td>\n",
       "    </tr>\n",
       "    <tr>\n",
       "      <th>2</th>\n",
       "      <td>1941-09-03</td>\n",
       "      <td>29.3</td>\n",
       "      <td>NaN</td>\n",
       "      <td>NaN</td>\n",
       "    </tr>\n",
       "    <tr>\n",
       "      <th>3</th>\n",
       "      <td>1941-09-04</td>\n",
       "      <td>37.1</td>\n",
       "      <td>NaN</td>\n",
       "      <td>NaN</td>\n",
       "    </tr>\n",
       "    <tr>\n",
       "      <th>4</th>\n",
       "      <td>1941-09-05</td>\n",
       "      <td>30.9</td>\n",
       "      <td>NaN</td>\n",
       "      <td>NaN</td>\n",
       "    </tr>\n",
       "    <tr>\n",
       "      <th>...</th>\n",
       "      <td>...</td>\n",
       "      <td>...</td>\n",
       "      <td>...</td>\n",
       "      <td>...</td>\n",
       "    </tr>\n",
       "    <tr>\n",
       "      <th>28392</th>\n",
       "      <td>2019-05-27</td>\n",
       "      <td>34.8</td>\n",
       "      <td>NaN</td>\n",
       "      <td>NaN</td>\n",
       "    </tr>\n",
       "    <tr>\n",
       "      <th>28393</th>\n",
       "      <td>2019-05-28</td>\n",
       "      <td>33.2</td>\n",
       "      <td>NaN</td>\n",
       "      <td>NaN</td>\n",
       "    </tr>\n",
       "    <tr>\n",
       "      <th>28394</th>\n",
       "      <td>2019-05-29</td>\n",
       "      <td>32.8</td>\n",
       "      <td>NaN</td>\n",
       "      <td>NaN</td>\n",
       "    </tr>\n",
       "    <tr>\n",
       "      <th>28395</th>\n",
       "      <td>2019-05-30</td>\n",
       "      <td>32.1</td>\n",
       "      <td>NaN</td>\n",
       "      <td>NaN</td>\n",
       "    </tr>\n",
       "    <tr>\n",
       "      <th>28396</th>\n",
       "      <td>2019-05-31</td>\n",
       "      <td>30.0</td>\n",
       "      <td>NaN</td>\n",
       "      <td>NaN</td>\n",
       "    </tr>\n",
       "  </tbody>\n",
       "</table>\n",
       "<p>28397 rows × 4 columns</p>\n",
       "</div>"
      ],
      "text/plain": [
       "            dates  max temp (C)  site number  site name\n",
       "0      1941-09-01          29.8          NaN        NaN\n",
       "1      1941-09-02          29.8          NaN        NaN\n",
       "2      1941-09-03          29.3          NaN        NaN\n",
       "3      1941-09-04          37.1          NaN        NaN\n",
       "4      1941-09-05          30.9          NaN        NaN\n",
       "...           ...           ...          ...        ...\n",
       "28392  2019-05-27          34.8          NaN        NaN\n",
       "28393  2019-05-28          33.2          NaN        NaN\n",
       "28394  2019-05-29          32.8          NaN        NaN\n",
       "28395  2019-05-30          32.1          NaN        NaN\n",
       "28396  2019-05-31          30.0          NaN        NaN\n",
       "\n",
       "[28397 rows x 4 columns]"
      ]
     },
     "execution_count": 113,
     "metadata": {},
     "output_type": "execute_result"
    }
   ],
   "source": [
    "st1 = pd.read_csv('/g/data/yj45/acorn/sat/version_2/site_data/tmax.001019.daily.csv',\n",
    "                 names=['dates','max temp (C)','site number','site name'],\n",
    "                 skiprows=2)\n",
    "st2 = pd.read_csv('/g/data/yj45/acorn/sat/version_2/site_data/tmax.002012.daily.csv',\n",
    "                 names=['dates','max temp (C)','site number','site name'],\n",
    "                 skiprows=2)\n",
    "st1"
   ]
  },
  {
   "cell_type": "code",
   "execution_count": 115,
   "metadata": {},
   "outputs": [
    {
     "data": {
      "image/png": "[encoded data removed]",
      "text/plain": [
       "<Figure size 432x288 with 1 Axes>"
      ]
     },
     "metadata": {
      "needs_background": "light"
     },
     "output_type": "display_data"
    }
   ],
   "source": [
    "# gca stands for 'get current axis'\n",
    "ax = plt.gca()\n",
    "\n",
    "st1.plot(kind='line',x='dates',y='max temp (C)', color='red', ax=ax)\n",
    "st2.plot(kind='line',x='dates',y='max temp (C)', color='blue',ax=ax)\n",
    "\n",
    "plt.show()"
   ]
  },
  {
   "cell_type": "markdown",
   "metadata": {},
   "source": [
    "Using `dask.dataframe()` to read in multiple csv files."
   ]
  },
  {
   "cell_type": "code",
   "execution_count": 36,
   "metadata": {},
   "outputs": [
    {
     "data": {
      "text/plain": [
       "'/g/data/yj45/acorn/sat/version_2/site_data/*.csv'"
      ]
     },
     "execution_count": 36,
     "metadata": {},
     "output_type": "execute_result"
    }
   ],
   "source": [
    "import os\n",
    "import dask\n",
    "filename = os.path.join('/g/data/yj45/acorn/sat/version_2/site_data/', '*.csv')\n",
    "filename"
   ]
  },
  {
   "cell_type": "code",
   "execution_count": 73,
   "metadata": {},
   "outputs": [
    {
     "data": {
      "text/html": [
       "<div>\n",
       "<style scoped>\n",
       "    .dataframe tbody tr th:only-of-type {\n",
       "        vertical-align: middle;\n",
       "    }\n",
       "\n",
       "    .dataframe tbody tr th {\n",
       "        vertical-align: top;\n",
       "    }\n",
       "\n",
       "    .dataframe thead th {\n",
       "        text-align: right;\n",
       "    }\n",
       "</style>\n",
       "<table border=\"1\" class=\"dataframe\">\n",
       "  <thead>\n",
       "    <tr style=\"text-align: right;\">\n",
       "      <th></th>\n",
       "      <th>dates</th>\n",
       "      <th>max temp (C)</th>\n",
       "      <th>site number</th>\n",
       "      <th>site name</th>\n",
       "    </tr>\n",
       "  </thead>\n",
       "  <tbody>\n",
       "    <tr>\n",
       "      <th>0</th>\n",
       "      <td>1941-09-01</td>\n",
       "      <td>29.8</td>\n",
       "      <td>NaN</td>\n",
       "      <td>NaN</td>\n",
       "    </tr>\n",
       "    <tr>\n",
       "      <th>1</th>\n",
       "      <td>1941-09-02</td>\n",
       "      <td>29.8</td>\n",
       "      <td>NaN</td>\n",
       "      <td>NaN</td>\n",
       "    </tr>\n",
       "    <tr>\n",
       "      <th>2</th>\n",
       "      <td>1941-09-03</td>\n",
       "      <td>29.3</td>\n",
       "      <td>NaN</td>\n",
       "      <td>NaN</td>\n",
       "    </tr>\n",
       "    <tr>\n",
       "      <th>3</th>\n",
       "      <td>1941-09-04</td>\n",
       "      <td>37.1</td>\n",
       "      <td>NaN</td>\n",
       "      <td>NaN</td>\n",
       "    </tr>\n",
       "    <tr>\n",
       "      <th>4</th>\n",
       "      <td>1941-09-05</td>\n",
       "      <td>30.9</td>\n",
       "      <td>NaN</td>\n",
       "      <td>NaN</td>\n",
       "    </tr>\n",
       "  </tbody>\n",
       "</table>\n",
       "</div>"
      ],
      "text/plain": [
       "        dates  max temp (C)  site number  site name\n",
       "0  1941-09-01          29.8          NaN        NaN\n",
       "1  1941-09-02          29.8          NaN        NaN\n",
       "2  1941-09-03          29.3          NaN        NaN\n",
       "3  1941-09-04          37.1          NaN        NaN\n",
       "4  1941-09-05          30.9          NaN        NaN"
      ]
     },
     "execution_count": 73,
     "metadata": {},
     "output_type": "execute_result"
    }
   ],
   "source": [
    "import dask.dataframe as dd\n",
    "dd = dd.read_csv(filename,names=['dates','max temp (C)','site number','site name'],skiprows=2)\n",
    "dd.head()"
   ]
  },
  {
   "cell_type": "markdown",
   "metadata": {},
   "source": [
    "Get all the data within the last twenty years."
   ]
  },
  {
   "cell_type": "code",
   "execution_count": 124,
   "metadata": {},
   "outputs": [
    {
     "data": {
      "text/html": [
       "<div>\n",
       "<style scoped>\n",
       "    .dataframe tbody tr th:only-of-type {\n",
       "        vertical-align: middle;\n",
       "    }\n",
       "\n",
       "    .dataframe tbody tr th {\n",
       "        vertical-align: top;\n",
       "    }\n",
       "\n",
       "    .dataframe thead th {\n",
       "        text-align: right;\n",
       "    }\n",
       "</style>\n",
       "<table border=\"1\" class=\"dataframe\">\n",
       "  <thead>\n",
       "    <tr style=\"text-align: right;\">\n",
       "      <th></th>\n",
       "      <th>dates</th>\n",
       "      <th>max temp (C)</th>\n",
       "      <th>site number</th>\n",
       "      <th>site name</th>\n",
       "    </tr>\n",
       "  </thead>\n",
       "  <tbody>\n",
       "    <tr>\n",
       "      <th>20100</th>\n",
       "      <td>1996-09-12</td>\n",
       "      <td>36.8</td>\n",
       "      <td>NaN</td>\n",
       "      <td>NaN</td>\n",
       "    </tr>\n",
       "    <tr>\n",
       "      <th>20101</th>\n",
       "      <td>1996-09-13</td>\n",
       "      <td>37.0</td>\n",
       "      <td>NaN</td>\n",
       "      <td>NaN</td>\n",
       "    </tr>\n",
       "    <tr>\n",
       "      <th>20102</th>\n",
       "      <td>1996-09-14</td>\n",
       "      <td>33.5</td>\n",
       "      <td>NaN</td>\n",
       "      <td>NaN</td>\n",
       "    </tr>\n",
       "    <tr>\n",
       "      <th>20103</th>\n",
       "      <td>1996-09-15</td>\n",
       "      <td>33.4</td>\n",
       "      <td>NaN</td>\n",
       "      <td>NaN</td>\n",
       "    </tr>\n",
       "    <tr>\n",
       "      <th>20104</th>\n",
       "      <td>1996-09-16</td>\n",
       "      <td>36.1</td>\n",
       "      <td>NaN</td>\n",
       "      <td>NaN</td>\n",
       "    </tr>\n",
       "    <tr>\n",
       "      <th>...</th>\n",
       "      <td>...</td>\n",
       "      <td>...</td>\n",
       "      <td>...</td>\n",
       "      <td>...</td>\n",
       "    </tr>\n",
       "    <tr>\n",
       "      <th>20185</th>\n",
       "      <td>1999-09-06</td>\n",
       "      <td>-0.2</td>\n",
       "      <td>NaN</td>\n",
       "      <td>NaN</td>\n",
       "    </tr>\n",
       "    <tr>\n",
       "      <th>20186</th>\n",
       "      <td>1999-09-07</td>\n",
       "      <td>-3.0</td>\n",
       "      <td>NaN</td>\n",
       "      <td>NaN</td>\n",
       "    </tr>\n",
       "    <tr>\n",
       "      <th>20187</th>\n",
       "      <td>1999-09-08</td>\n",
       "      <td>1.2</td>\n",
       "      <td>NaN</td>\n",
       "      <td>NaN</td>\n",
       "    </tr>\n",
       "    <tr>\n",
       "      <th>20188</th>\n",
       "      <td>1999-09-09</td>\n",
       "      <td>4.6</td>\n",
       "      <td>NaN</td>\n",
       "      <td>NaN</td>\n",
       "    </tr>\n",
       "    <tr>\n",
       "      <th>20189</th>\n",
       "      <td>1999-09-10</td>\n",
       "      <td>1.5</td>\n",
       "      <td>NaN</td>\n",
       "      <td>NaN</td>\n",
       "    </tr>\n",
       "  </tbody>\n",
       "</table>\n",
       "<p>19350 rows × 4 columns</p>\n",
       "</div>"
      ],
      "text/plain": [
       "            dates  max temp (C)  site number  site name\n",
       "20100  1996-09-12          36.8          NaN        NaN\n",
       "20101  1996-09-13          37.0          NaN        NaN\n",
       "20102  1996-09-14          33.5          NaN        NaN\n",
       "20103  1996-09-15          33.4          NaN        NaN\n",
       "20104  1996-09-16          36.1          NaN        NaN\n",
       "...           ...           ...          ...        ...\n",
       "20185  1999-09-06          -0.2          NaN        NaN\n",
       "20186  1999-09-07          -3.0          NaN        NaN\n",
       "20187  1999-09-08           1.2          NaN        NaN\n",
       "20188  1999-09-09           4.6          NaN        NaN\n",
       "20189  1999-09-10           1.5          NaN        NaN\n",
       "\n",
       "[19350 rows x 4 columns]"
      ]
     },
     "execution_count": 124,
     "metadata": {},
     "output_type": "execute_result"
    }
   ],
   "source": [
    "teny = dd.loc['2010-01-01':'2019-12-31'].compute()\n",
    "teny"
   ]
  },
  {
   "cell_type": "code",
   "execution_count": 125,
   "metadata": {},
   "outputs": [
    {
     "data": {
      "text/plain": [
       "<matplotlib.axes._subplots.AxesSubplot at 0x14d95d7ade50>"
      ]
     },
     "execution_count": 125,
     "metadata": {},
     "output_type": "execute_result"
    },
    {
     "data": {
      "image/png": "[encoded data removed]",
      "text/plain": [
       "<Figure size 432x288 with 1 Axes>"
      ]
     },
     "metadata": {
      "needs_background": "light"
     },
     "output_type": "display_data"
    }
   ],
   "source": [
    "%matplotlib inline\n",
    "teny.plot(kind='line',x='dates',y='max temp (C)', color='red')"
   ]
  },
  {
   "cell_type": "code",
   "execution_count": null,
   "metadata": {},
   "outputs": [],
   "source": []
  }
 ],
 "metadata": {
  "kernelspec": {
   "display_name": "Python 3",
   "language": "python",
   "name": "python3"
  },
  "language_info": {
   "codemirror_mode": {
    "name": "ipython",
    "version": 3
   },
   "file_extension": ".py",
   "mimetype": "text/x-python",
   "name": "python",
   "nbconvert_exporter": "python",
   "pygments_lexer": "ipython3",
   "version": "3.7.3"
  }
 },
 "nbformat": 4,
 "nbformat_minor": 4
}
